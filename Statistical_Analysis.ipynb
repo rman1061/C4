{
  "nbformat": 4,
  "nbformat_minor": 0,
  "metadata": {
    "colab": {
      "name": "Statistical Analysis.ipynb",
      "provenance": [],
      "collapsed_sections": [],
      "authorship_tag": "ABX9TyM9JM0MLgnTxpGhKgfIimZ/",
      "include_colab_link": true
    },
    "kernelspec": {
      "name": "python3",
      "display_name": "Python 3"
    },
    "language_info": {
      "name": "python"
    }
  },
  "cells": [
    {
      "cell_type": "markdown",
      "metadata": {
        "id": "view-in-github",
        "colab_type": "text"
      },
      "source": [
        "<a href=\"https://colab.research.google.com/github/rman1061/C4/blob/main/Statistical_Analysis.ipynb\" target=\"_parent\"><img src=\"https://colab.research.google.com/assets/colab-badge.svg\" alt=\"Open In Colab\"/></a>"
      ]
    },
    {
      "cell_type": "code",
      "metadata": {
        "colab": {
          "base_uri": "https://localhost:8080/",
          "height": 142
        },
        "id": "xaNEzzwCjpu2",
        "outputId": "55d2ffb0-9f2b-4a9f-c0ef-e648235f6e07"
      },
      "source": [
        "#PARP 116\n",
        "import pandas as pd\n",
        "# load data file\n",
        "df = pd.read_csv(\"/content/PARP 116.txt\",sep=\"\\t\")\n",
        "df"
      ],
      "execution_count": null,
      "outputs": [
        {
          "output_type": "execute_result",
          "data": {
            "text/html": [
              "<div>\n",
              "<style scoped>\n",
              "    .dataframe tbody tr th:only-of-type {\n",
              "        vertical-align: middle;\n",
              "    }\n",
              "\n",
              "    .dataframe tbody tr th {\n",
              "        vertical-align: top;\n",
              "    }\n",
              "\n",
              "    .dataframe thead th {\n",
              "        text-align: right;\n",
              "    }\n",
              "</style>\n",
              "<table border=\"1\" class=\"dataframe\">\n",
              "  <thead>\n",
              "    <tr style=\"text-align: right;\">\n",
              "      <th></th>\n",
              "      <th>A</th>\n",
              "      <th>B</th>\n",
              "      <th>C</th>\n",
              "      <th>D</th>\n",
              "      <th>E</th>\n",
              "      <th>F</th>\n",
              "      <th>G</th>\n",
              "      <th>H</th>\n",
              "    </tr>\n",
              "  </thead>\n",
              "  <tbody>\n",
              "    <tr>\n",
              "      <th>0</th>\n",
              "      <td>0.050156</td>\n",
              "      <td>0.072669</td>\n",
              "      <td>0.077729</td>\n",
              "      <td>0.199264</td>\n",
              "      <td>0.049406</td>\n",
              "      <td>0.028662</td>\n",
              "      <td>0.119538</td>\n",
              "      <td>0.095619</td>\n",
              "    </tr>\n",
              "    <tr>\n",
              "      <th>1</th>\n",
              "      <td>0.025154</td>\n",
              "      <td>0.047002</td>\n",
              "      <td>0.029990</td>\n",
              "      <td>0.154870</td>\n",
              "      <td>0.013190</td>\n",
              "      <td>0.045632</td>\n",
              "      <td>0.065716</td>\n",
              "      <td>0.025977</td>\n",
              "    </tr>\n",
              "    <tr>\n",
              "      <th>2</th>\n",
              "      <td>0.065737</td>\n",
              "      <td>0.069052</td>\n",
              "      <td>0.020719</td>\n",
              "      <td>0.201102</td>\n",
              "      <td>0.011822</td>\n",
              "      <td>0.041233</td>\n",
              "      <td>0.107815</td>\n",
              "      <td>0.015245</td>\n",
              "    </tr>\n",
              "  </tbody>\n",
              "</table>\n",
              "</div>"
            ],
            "text/plain": [
              "          A         B         C  ...         F         G         H\n",
              "0  0.050156  0.072669  0.077729  ...  0.028662  0.119538  0.095619\n",
              "1  0.025154  0.047002  0.029990  ...  0.045632  0.065716  0.025977\n",
              "2  0.065737  0.069052  0.020719  ...  0.041233  0.107815  0.015245\n",
              "\n",
              "[3 rows x 8 columns]"
            ]
          },
          "metadata": {
            "tags": []
          },
          "execution_count": 2
        }
      ]
    },
    {
      "cell_type": "code",
      "metadata": {
        "id": "BnT4txbdmnpt"
      },
      "source": [
        "# reshape the d dataframe suitable for statsmodels package \n",
        "df_melt = pd.melt(df.reset_index(), id_vars=['index'], value_vars=['A', 'B', 'C', 'D','E','F','G','H'])\n",
        "# replace column names\n",
        "df_melt.columns = ['index', 'treatments', 'value']\n",
        "\n",
        "#A = vehicle\n",
        "#B = 0.01\n",
        "#C = 0.1\n",
        "#D= 0.5\n",
        "#E= 1\n",
        "#F= 5\n",
        "#G = 10\n",
        "#H = 50"
      ],
      "execution_count": null,
      "outputs": []
    },
    {
      "cell_type": "code",
      "metadata": {
        "id": "sOHPUAHfnJEt"
      },
      "source": [
        "# generate a boxplot to see the data distribution by treatments. Using boxplot, we can \n",
        "# easily detect the differences between different treatments\n",
        "import matplotlib.pyplot as plt\n",
        "import seaborn as sns\n"
      ],
      "execution_count": null,
      "outputs": []
    },
    {
      "cell_type": "code",
      "metadata": {
        "colab": {
          "base_uri": "https://localhost:8080/",
          "height": 279
        },
        "id": "SapzTWpmEAu7",
        "outputId": "54a487bc-8d22-4993-eb90-c6d2f170afcc"
      },
      "source": [
        "ax = sns.boxplot(x='treatments', y='value', data=df_melt, color='#99c2a2')\n",
        "ax = sns.swarmplot(x=\"treatments\", y=\"value\", data=df_melt, color='#7d0013')\n",
        "plt.show()"
      ],
      "execution_count": null,
      "outputs": [
        {
          "output_type": "display_data",
          "data": {
            "image/png": "[encoded data removed]",
            "text/plain": [
              "<Figure size 432x288 with 1 Axes>"
            ]
          },
          "metadata": {
            "tags": [],
            "needs_background": "light"
          }
        }
      ]
    },
    {
      "cell_type": "code",
      "metadata": {
        "colab": {
          "base_uri": "https://localhost:8080/"
        },
        "id": "PWER9O0RnLb9",
        "outputId": "6fb5d0d7-b60a-41b1-e8a6-bad605c3dc44"
      },
      "source": [
        "import scipy.stats as stats\n",
        "# stats f_oneway functions takes the groups as input and returns ANOVA F and p value\n",
        "fvalue, pvalue = stats.f_oneway(df['A'], df['B'], df['C'], df['D'],df['E'],df['F'],df['G'],df['H'])\n",
        "print(fvalue, pvalue)"
      ],
      "execution_count": null,
      "outputs": [
        {
          "output_type": "stream",
          "text": [
            "11.861776948817129 2.799841208469811e-05\n"
          ],
          "name": "stdout"
        }
      ]
    },
    {
      "cell_type": "code",
      "metadata": {
        "colab": {
          "base_uri": "https://localhost:8080/"
        },
        "id": "eyH4feO6nd81",
        "outputId": "6552cecc-4c88-48cf-abf3-8596f24cd988"
      },
      "source": [
        "# get ANOVA table as R like output\n",
        "import statsmodels.api as sm\n",
        "from statsmodels.formula.api import ols"
      ],
      "execution_count": null,
      "outputs": [
        {
          "output_type": "stream",
          "text": [
            "/usr/local/lib/python3.7/dist-packages/statsmodels/tools/_testing.py:19: FutureWarning: pandas.util.testing is deprecated. Use the functions in the public API at pandas.testing instead.\n",
            "  import pandas.util.testing as tm\n"
          ],
          "name": "stderr"
        }
      ]
    },
    {
      "cell_type": "code",
      "metadata": {
        "colab": {
          "base_uri": "https://localhost:8080/",
          "height": 111
        },
        "id": "FsiQISTFnpc1",
        "outputId": "9f8c6db4-6343-4d39-9c34-a95095e51e70"
      },
      "source": [
        "# Ordinary Least Squares (OLS) model\n",
        "model = ols('value ~ C(treatments)', data=df_melt).fit()\n",
        "anova_table = sm.stats.anova_lm(model, typ=2)\n",
        "anova_table"
      ],
      "execution_count": null,
      "outputs": [
        {
          "output_type": "execute_result",
          "data": {
            "text/html": [
              "<div>\n",
              "<style scoped>\n",
              "    .dataframe tbody tr th:only-of-type {\n",
              "        vertical-align: middle;\n",
              "    }\n",
              "\n",
              "    .dataframe tbody tr th {\n",
              "        vertical-align: top;\n",
              "    }\n",
              "\n",
              "    .dataframe thead th {\n",
              "        text-align: right;\n",
              "    }\n",
              "</style>\n",
              "<table border=\"1\" class=\"dataframe\">\n",
              "  <thead>\n",
              "    <tr style=\"text-align: right;\">\n",
              "      <th></th>\n",
              "      <th>sum_sq</th>\n",
              "      <th>df</th>\n",
              "      <th>F</th>\n",
              "      <th>PR(&gt;F)</th>\n",
              "    </tr>\n",
              "  </thead>\n",
              "  <tbody>\n",
              "    <tr>\n",
              "      <th>C(treatments)</th>\n",
              "      <td>0.056779</td>\n",
              "      <td>7.0</td>\n",
              "      <td>11.861777</td>\n",
              "      <td>0.000028</td>\n",
              "    </tr>\n",
              "    <tr>\n",
              "      <th>Residual</th>\n",
              "      <td>0.010941</td>\n",
              "      <td>16.0</td>\n",
              "      <td>NaN</td>\n",
              "      <td>NaN</td>\n",
              "    </tr>\n",
              "  </tbody>\n",
              "</table>\n",
              "</div>"
            ],
            "text/plain": [
              "                 sum_sq    df          F    PR(>F)\n",
              "C(treatments)  0.056779   7.0  11.861777  0.000028\n",
              "Residual       0.010941  16.0        NaN       NaN"
            ]
          },
          "metadata": {
            "tags": []
          },
          "execution_count": 8
        }
      ]
    },
    {
      "cell_type": "code",
      "metadata": {
        "colab": {
          "base_uri": "https://localhost:8080/"
        },
        "id": "zbarLupS_jq1",
        "outputId": "32743479-57bf-4224-8bed-dd2e2ccf59e0"
      },
      "source": [
        "pip install bioinfokit"
      ],
      "execution_count": null,
      "outputs": [
        {
          "output_type": "stream",
          "text": [
            "Collecting bioinfokit\n",
            "\u001b[?25l  Downloading https://files.pythonhosted.org/packages/0f/2b/c219e90dfddcaa19726152cd12c4f1beae0c9e0efe82e9fa75dd81adad19/bioinfokit-2.0.4.tar.gz (82kB)\n",
            "\r\u001b[K     |████                            | 10kB 13.8MB/s eta 0:00:01\r\u001b[K     |████████                        | 20kB 7.0MB/s eta 0:00:01\r\u001b[K     |████████████                    | 30kB 4.4MB/s eta 0:00:01\r\u001b[K     |███████████████▉                | 40kB 4.1MB/s eta 0:00:01\r\u001b[K     |███████████████████▉            | 51kB 2.1MB/s eta 0:00:01\r\u001b[K     |███████████████████████▉        | 61kB 2.4MB/s eta 0:00:01\r\u001b[K     |███████████████████████████▊    | 71kB 2.6MB/s eta 0:00:01\r\u001b[K     |███████████████████████████████▊| 81kB 2.7MB/s eta 0:00:01\r\u001b[K     |████████████████████████████████| 92kB 2.4MB/s \n",
            "\u001b[?25hRequirement already satisfied: pandas in /usr/local/lib/python3.7/dist-packages (from bioinfokit) (1.1.5)\n",
            "Requirement already satisfied: numpy in /usr/local/lib/python3.7/dist-packages (from bioinfokit) (1.19.5)\n",
            "Requirement already satisfied: matplotlib in /usr/local/lib/python3.7/dist-packages (from bioinfokit) (3.2.2)\n",
            "Requirement already satisfied: scipy in /usr/local/lib/python3.7/dist-packages (from bioinfokit) (1.4.1)\n",
            "Requirement already satisfied: scikit-learn in /usr/local/lib/python3.7/dist-packages (from bioinfokit) (0.22.2.post1)\n",
            "Requirement already satisfied: seaborn in /usr/local/lib/python3.7/dist-packages (from bioinfokit) (0.11.1)\n",
            "Requirement already satisfied: matplotlib-venn in /usr/local/lib/python3.7/dist-packages (from bioinfokit) (0.11.6)\n",
            "Requirement already satisfied: tabulate in /usr/local/lib/python3.7/dist-packages (from bioinfokit) (0.8.9)\n",
            "Requirement already satisfied: statsmodels in /usr/local/lib/python3.7/dist-packages (from bioinfokit) (0.10.2)\n",
            "Collecting textwrap3\n",
            "  Downloading https://files.pythonhosted.org/packages/77/9c/a53e561d496ee5866bbeea4d3a850b3b545ed854f8a21007c1e0d872e94d/textwrap3-0.9.2-py2.py3-none-any.whl\n",
            "Collecting adjustText\n",
            "  Downloading https://files.pythonhosted.org/packages/9e/15/4157718bf323fd5f5b81c891c660d0f388e042d2689a558bf1389632dc44/adjustText-0.7.3.tar.gz\n",
            "Requirement already satisfied: pytz>=2017.2 in /usr/local/lib/python3.7/dist-packages (from pandas->bioinfokit) (2018.9)\n",
            "Requirement already satisfied: python-dateutil>=2.7.3 in /usr/local/lib/python3.7/dist-packages (from pandas->bioinfokit) (2.8.1)\n",
            "Requirement already satisfied: pyparsing!=2.0.4,!=2.1.2,!=2.1.6,>=2.0.1 in /usr/local/lib/python3.7/dist-packages (from matplotlib->bioinfokit) (2.4.7)\n",
            "Requirement already satisfied: kiwisolver>=1.0.1 in /usr/local/lib/python3.7/dist-packages (from matplotlib->bioinfokit) (1.3.1)\n",
            "Requirement already satisfied: cycler>=0.10 in /usr/local/lib/python3.7/dist-packages (from matplotlib->bioinfokit) (0.10.0)\n",
            "Requirement already satisfied: joblib>=0.11 in /usr/local/lib/python3.7/dist-packages (from scikit-learn->bioinfokit) (1.0.1)\n",
            "Requirement already satisfied: patsy>=0.4.0 in /usr/local/lib/python3.7/dist-packages (from statsmodels->bioinfokit) (0.5.1)\n",
            "Requirement already satisfied: six>=1.5 in /usr/local/lib/python3.7/dist-packages (from python-dateutil>=2.7.3->pandas->bioinfokit) (1.15.0)\n",
            "Building wheels for collected packages: bioinfokit, adjustText\n",
            "  Building wheel for bioinfokit (setup.py) ... \u001b[?25l\u001b[?25hdone\n",
            "  Created wheel for bioinfokit: filename=bioinfokit-2.0.4-cp37-none-any.whl size=56008 sha256=e55d9a7e9e18414fdd7ef55355ba84cfc7e7268c0a0b19a70a74650b7288b568\n",
            "  Stored in directory: /root/.cache/pip/wheels/43/cf/aa/4a4fe54a3edb663ee7bd9b245bd946506c8bd4b99f4ae00507\n",
            "  Building wheel for adjustText (setup.py) ... \u001b[?25l\u001b[?25hdone\n",
            "  Created wheel for adjustText: filename=adjustText-0.7.3-cp37-none-any.whl size=7100 sha256=46cffcda647aaeea24dfbe095f91b0072c935221c824fa0391a097fe962c8dcd\n",
            "  Stored in directory: /root/.cache/pip/wheels/41/95/74/7d347e136d672f8bc28e937032bc92baf4f80856763a7e7b72\n",
            "Successfully built bioinfokit adjustText\n",
            "Installing collected packages: textwrap3, adjustText, bioinfokit\n",
            "Successfully installed adjustText-0.7.3 bioinfokit-2.0.4 textwrap3-0.9.2\n"
          ],
          "name": "stdout"
        }
      ]
    },
    {
      "cell_type": "code",
      "metadata": {
        "colab": {
          "base_uri": "https://localhost:8080/",
          "height": 111
        },
        "id": "98zCuw7UozZM",
        "outputId": "4f94ef3a-1c03-464a-ee88-a6dda5e3be62"
      },
      "source": [
        "from bioinfokit.analys import stat\n",
        "res = stat()\n",
        "res.anova_stat(df=df_melt, res_var='value', anova_model='value ~ C(treatments)')\n",
        "res.anova_summary"
      ],
      "execution_count": null,
      "outputs": [
        {
          "output_type": "execute_result",
          "data": {
            "text/html": [
              "<div>\n",
              "<style scoped>\n",
              "    .dataframe tbody tr th:only-of-type {\n",
              "        vertical-align: middle;\n",
              "    }\n",
              "\n",
              "    .dataframe tbody tr th {\n",
              "        vertical-align: top;\n",
              "    }\n",
              "\n",
              "    .dataframe thead th {\n",
              "        text-align: right;\n",
              "    }\n",
              "</style>\n",
              "<table border=\"1\" class=\"dataframe\">\n",
              "  <thead>\n",
              "    <tr style=\"text-align: right;\">\n",
              "      <th></th>\n",
              "      <th>df</th>\n",
              "      <th>sum_sq</th>\n",
              "      <th>mean_sq</th>\n",
              "      <th>F</th>\n",
              "      <th>PR(&gt;F)</th>\n",
              "    </tr>\n",
              "  </thead>\n",
              "  <tbody>\n",
              "    <tr>\n",
              "      <th>C(treatments)</th>\n",
              "      <td>7.0</td>\n",
              "      <td>0.056779</td>\n",
              "      <td>0.008111</td>\n",
              "      <td>11.861777</td>\n",
              "      <td>0.000028</td>\n",
              "    </tr>\n",
              "    <tr>\n",
              "      <th>Residual</th>\n",
              "      <td>16.0</td>\n",
              "      <td>0.010941</td>\n",
              "      <td>0.000684</td>\n",
              "      <td>NaN</td>\n",
              "      <td>NaN</td>\n",
              "    </tr>\n",
              "  </tbody>\n",
              "</table>\n",
              "</div>"
            ],
            "text/plain": [
              "                 df    sum_sq   mean_sq          F    PR(>F)\n",
              "C(treatments)   7.0  0.056779  0.008111  11.861777  0.000028\n",
              "Residual       16.0  0.010941  0.000684        NaN       NaN"
            ]
          },
          "metadata": {
            "tags": []
          },
          "execution_count": 10
        }
      ]
    },
    {
      "cell_type": "code",
      "metadata": {
        "id": "rtYxMI9K_h8e"
      },
      "source": [
        "# we will use bioinfokit (v1.0.3 or later) for performing tukey HSD test\n",
        "# check documentation here https://github.com/reneshbedre/bioinfokit\n",
        "from bioinfokit.analys import stat"
      ],
      "execution_count": null,
      "outputs": []
    },
    {
      "cell_type": "code",
      "metadata": {
        "id": "S4f2cfmuCohU"
      },
      "source": [
        "# perform multiple pairwise comparison (Tukey's HSD)\n",
        "# unequal sample size data, tukey_hsd uses Tukey-Kramer test\n",
        "res = stat()"
      ],
      "execution_count": null,
      "outputs": []
    },
    {
      "cell_type": "code",
      "metadata": {
        "colab": {
          "base_uri": "https://localhost:8080/",
          "height": 917
        },
        "id": "z7HD_yO7CqbU",
        "outputId": "dd70ef5a-a933-4be8-ba35-26013e94ca4f"
      },
      "source": [
        "res.tukey_hsd(df=df_melt, res_var='value', xfac_var='treatments', anova_model='value ~ C(treatments)')\n",
        "res.tukey_summary"
      ],
      "execution_count": null,
      "outputs": [
        {
          "output_type": "execute_result",
          "data": {
            "text/html": [
              "<div>\n",
              "<style scoped>\n",
              "    .dataframe tbody tr th:only-of-type {\n",
              "        vertical-align: middle;\n",
              "    }\n",
              "\n",
              "    .dataframe tbody tr th {\n",
              "        vertical-align: top;\n",
              "    }\n",
              "\n",
              "    .dataframe thead th {\n",
              "        text-align: right;\n",
              "    }\n",
              "</style>\n",
              "<table border=\"1\" class=\"dataframe\">\n",
              "  <thead>\n",
              "    <tr style=\"text-align: right;\">\n",
              "      <th></th>\n",
              "      <th>group1</th>\n",
              "      <th>group2</th>\n",
              "      <th>Diff</th>\n",
              "      <th>Lower</th>\n",
              "      <th>Upper</th>\n",
              "      <th>q-value</th>\n",
              "      <th>p-value</th>\n",
              "    </tr>\n",
              "  </thead>\n",
              "  <tbody>\n",
              "    <tr>\n",
              "      <th>0</th>\n",
              "      <td>A</td>\n",
              "      <td>B</td>\n",
              "      <td>0.015892</td>\n",
              "      <td>-0.058034</td>\n",
              "      <td>0.089818</td>\n",
              "      <td>1.052610</td>\n",
              "      <td>0.900000</td>\n",
              "    </tr>\n",
              "    <tr>\n",
              "      <th>1</th>\n",
              "      <td>A</td>\n",
              "      <td>C</td>\n",
              "      <td>0.004202</td>\n",
              "      <td>-0.069724</td>\n",
              "      <td>0.078128</td>\n",
              "      <td>0.278351</td>\n",
              "      <td>0.900000</td>\n",
              "    </tr>\n",
              "    <tr>\n",
              "      <th>2</th>\n",
              "      <td>A</td>\n",
              "      <td>D</td>\n",
              "      <td>0.138063</td>\n",
              "      <td>0.064137</td>\n",
              "      <td>0.211989</td>\n",
              "      <td>9.144721</td>\n",
              "      <td>0.001000</td>\n",
              "    </tr>\n",
              "    <tr>\n",
              "      <th>3</th>\n",
              "      <td>A</td>\n",
              "      <td>E</td>\n",
              "      <td>0.022210</td>\n",
              "      <td>-0.051716</td>\n",
              "      <td>0.096136</td>\n",
              "      <td>1.471073</td>\n",
              "      <td>0.900000</td>\n",
              "    </tr>\n",
              "    <tr>\n",
              "      <th>4</th>\n",
              "      <td>A</td>\n",
              "      <td>F</td>\n",
              "      <td>0.008506</td>\n",
              "      <td>-0.065420</td>\n",
              "      <td>0.082432</td>\n",
              "      <td>0.563433</td>\n",
              "      <td>0.900000</td>\n",
              "    </tr>\n",
              "    <tr>\n",
              "      <th>5</th>\n",
              "      <td>A</td>\n",
              "      <td>G</td>\n",
              "      <td>0.050674</td>\n",
              "      <td>-0.023252</td>\n",
              "      <td>0.124600</td>\n",
              "      <td>3.356460</td>\n",
              "      <td>0.315978</td>\n",
              "    </tr>\n",
              "    <tr>\n",
              "      <th>6</th>\n",
              "      <td>A</td>\n",
              "      <td>H</td>\n",
              "      <td>0.001402</td>\n",
              "      <td>-0.072524</td>\n",
              "      <td>0.075328</td>\n",
              "      <td>0.092871</td>\n",
              "      <td>0.900000</td>\n",
              "    </tr>\n",
              "    <tr>\n",
              "      <th>7</th>\n",
              "      <td>B</td>\n",
              "      <td>C</td>\n",
              "      <td>0.020094</td>\n",
              "      <td>-0.053832</td>\n",
              "      <td>0.094020</td>\n",
              "      <td>1.330961</td>\n",
              "      <td>0.900000</td>\n",
              "    </tr>\n",
              "    <tr>\n",
              "      <th>8</th>\n",
              "      <td>B</td>\n",
              "      <td>D</td>\n",
              "      <td>0.122171</td>\n",
              "      <td>0.048245</td>\n",
              "      <td>0.196097</td>\n",
              "      <td>8.092111</td>\n",
              "      <td>0.001000</td>\n",
              "    </tr>\n",
              "    <tr>\n",
              "      <th>9</th>\n",
              "      <td>B</td>\n",
              "      <td>E</td>\n",
              "      <td>0.038102</td>\n",
              "      <td>-0.035824</td>\n",
              "      <td>0.112028</td>\n",
              "      <td>2.523683</td>\n",
              "      <td>0.623617</td>\n",
              "    </tr>\n",
              "    <tr>\n",
              "      <th>10</th>\n",
              "      <td>B</td>\n",
              "      <td>F</td>\n",
              "      <td>0.024398</td>\n",
              "      <td>-0.049528</td>\n",
              "      <td>0.098324</td>\n",
              "      <td>1.616043</td>\n",
              "      <td>0.900000</td>\n",
              "    </tr>\n",
              "    <tr>\n",
              "      <th>11</th>\n",
              "      <td>B</td>\n",
              "      <td>G</td>\n",
              "      <td>0.034783</td>\n",
              "      <td>-0.039143</td>\n",
              "      <td>0.108709</td>\n",
              "      <td>2.303850</td>\n",
              "      <td>0.705895</td>\n",
              "    </tr>\n",
              "    <tr>\n",
              "      <th>12</th>\n",
              "      <td>B</td>\n",
              "      <td>H</td>\n",
              "      <td>0.017294</td>\n",
              "      <td>-0.056632</td>\n",
              "      <td>0.091220</td>\n",
              "      <td>1.145481</td>\n",
              "      <td>0.900000</td>\n",
              "    </tr>\n",
              "    <tr>\n",
              "      <th>13</th>\n",
              "      <td>C</td>\n",
              "      <td>D</td>\n",
              "      <td>0.142266</td>\n",
              "      <td>0.068340</td>\n",
              "      <td>0.216192</td>\n",
              "      <td>9.423072</td>\n",
              "      <td>0.001000</td>\n",
              "    </tr>\n",
              "    <tr>\n",
              "      <th>14</th>\n",
              "      <td>C</td>\n",
              "      <td>E</td>\n",
              "      <td>0.018007</td>\n",
              "      <td>-0.055919</td>\n",
              "      <td>0.091933</td>\n",
              "      <td>1.192722</td>\n",
              "      <td>0.900000</td>\n",
              "    </tr>\n",
              "    <tr>\n",
              "      <th>15</th>\n",
              "      <td>C</td>\n",
              "      <td>F</td>\n",
              "      <td>0.004304</td>\n",
              "      <td>-0.069622</td>\n",
              "      <td>0.078230</td>\n",
              "      <td>0.285082</td>\n",
              "      <td>0.900000</td>\n",
              "    </tr>\n",
              "    <tr>\n",
              "      <th>16</th>\n",
              "      <td>C</td>\n",
              "      <td>G</td>\n",
              "      <td>0.054877</td>\n",
              "      <td>-0.019049</td>\n",
              "      <td>0.128803</td>\n",
              "      <td>3.634811</td>\n",
              "      <td>0.235741</td>\n",
              "    </tr>\n",
              "    <tr>\n",
              "      <th>17</th>\n",
              "      <td>C</td>\n",
              "      <td>H</td>\n",
              "      <td>0.002800</td>\n",
              "      <td>-0.071126</td>\n",
              "      <td>0.076726</td>\n",
              "      <td>0.185480</td>\n",
              "      <td>0.900000</td>\n",
              "    </tr>\n",
              "    <tr>\n",
              "      <th>18</th>\n",
              "      <td>D</td>\n",
              "      <td>E</td>\n",
              "      <td>0.160273</td>\n",
              "      <td>0.086347</td>\n",
              "      <td>0.234199</td>\n",
              "      <td>10.615794</td>\n",
              "      <td>0.001000</td>\n",
              "    </tr>\n",
              "    <tr>\n",
              "      <th>19</th>\n",
              "      <td>D</td>\n",
              "      <td>F</td>\n",
              "      <td>0.146570</td>\n",
              "      <td>0.072644</td>\n",
              "      <td>0.220496</td>\n",
              "      <td>9.708154</td>\n",
              "      <td>0.001000</td>\n",
              "    </tr>\n",
              "    <tr>\n",
              "      <th>20</th>\n",
              "      <td>D</td>\n",
              "      <td>G</td>\n",
              "      <td>0.087389</td>\n",
              "      <td>0.013463</td>\n",
              "      <td>0.161315</td>\n",
              "      <td>5.788261</td>\n",
              "      <td>0.014935</td>\n",
              "    </tr>\n",
              "    <tr>\n",
              "      <th>21</th>\n",
              "      <td>D</td>\n",
              "      <td>H</td>\n",
              "      <td>0.139465</td>\n",
              "      <td>0.065539</td>\n",
              "      <td>0.213391</td>\n",
              "      <td>9.237592</td>\n",
              "      <td>0.001000</td>\n",
              "    </tr>\n",
              "    <tr>\n",
              "      <th>22</th>\n",
              "      <td>E</td>\n",
              "      <td>F</td>\n",
              "      <td>0.013703</td>\n",
              "      <td>-0.060223</td>\n",
              "      <td>0.087629</td>\n",
              "      <td>0.907640</td>\n",
              "      <td>0.900000</td>\n",
              "    </tr>\n",
              "    <tr>\n",
              "      <th>23</th>\n",
              "      <td>E</td>\n",
              "      <td>G</td>\n",
              "      <td>0.072884</td>\n",
              "      <td>-0.001042</td>\n",
              "      <td>0.146810</td>\n",
              "      <td>4.827533</td>\n",
              "      <td>0.054794</td>\n",
              "    </tr>\n",
              "    <tr>\n",
              "      <th>24</th>\n",
              "      <td>E</td>\n",
              "      <td>H</td>\n",
              "      <td>0.020808</td>\n",
              "      <td>-0.053118</td>\n",
              "      <td>0.094734</td>\n",
              "      <td>1.378202</td>\n",
              "      <td>0.900000</td>\n",
              "    </tr>\n",
              "    <tr>\n",
              "      <th>25</th>\n",
              "      <td>F</td>\n",
              "      <td>G</td>\n",
              "      <td>0.059181</td>\n",
              "      <td>-0.014745</td>\n",
              "      <td>0.133107</td>\n",
              "      <td>3.919892</td>\n",
              "      <td>0.170786</td>\n",
              "    </tr>\n",
              "    <tr>\n",
              "      <th>26</th>\n",
              "      <td>F</td>\n",
              "      <td>H</td>\n",
              "      <td>0.007104</td>\n",
              "      <td>-0.066822</td>\n",
              "      <td>0.081030</td>\n",
              "      <td>0.470562</td>\n",
              "      <td>0.900000</td>\n",
              "    </tr>\n",
              "    <tr>\n",
              "      <th>27</th>\n",
              "      <td>G</td>\n",
              "      <td>H</td>\n",
              "      <td>0.052077</td>\n",
              "      <td>-0.021849</td>\n",
              "      <td>0.126003</td>\n",
              "      <td>3.449331</td>\n",
              "      <td>0.287441</td>\n",
              "    </tr>\n",
              "  </tbody>\n",
              "</table>\n",
              "</div>"
            ],
            "text/plain": [
              "   group1 group2      Diff     Lower     Upper    q-value   p-value\n",
              "0       A      B  0.015892 -0.058034  0.089818   1.052610  0.900000\n",
              "1       A      C  0.004202 -0.069724  0.078128   0.278351  0.900000\n",
              "2       A      D  0.138063  0.064137  0.211989   9.144721  0.001000\n",
              "3       A      E  0.022210 -0.051716  0.096136   1.471073  0.900000\n",
              "4       A      F  0.008506 -0.065420  0.082432   0.563433  0.900000\n",
              "5       A      G  0.050674 -0.023252  0.124600   3.356460  0.315978\n",
              "6       A      H  0.001402 -0.072524  0.075328   0.092871  0.900000\n",
              "7       B      C  0.020094 -0.053832  0.094020   1.330961  0.900000\n",
              "8       B      D  0.122171  0.048245  0.196097   8.092111  0.001000\n",
              "9       B      E  0.038102 -0.035824  0.112028   2.523683  0.623617\n",
              "10      B      F  0.024398 -0.049528  0.098324   1.616043  0.900000\n",
              "11      B      G  0.034783 -0.039143  0.108709   2.303850  0.705895\n",
              "12      B      H  0.017294 -0.056632  0.091220   1.145481  0.900000\n",
              "13      C      D  0.142266  0.068340  0.216192   9.423072  0.001000\n",
              "14      C      E  0.018007 -0.055919  0.091933   1.192722  0.900000\n",
              "15      C      F  0.004304 -0.069622  0.078230   0.285082  0.900000\n",
              "16      C      G  0.054877 -0.019049  0.128803   3.634811  0.235741\n",
              "17      C      H  0.002800 -0.071126  0.076726   0.185480  0.900000\n",
              "18      D      E  0.160273  0.086347  0.234199  10.615794  0.001000\n",
              "19      D      F  0.146570  0.072644  0.220496   9.708154  0.001000\n",
              "20      D      G  0.087389  0.013463  0.161315   5.788261  0.014935\n",
              "21      D      H  0.139465  0.065539  0.213391   9.237592  0.001000\n",
              "22      E      F  0.013703 -0.060223  0.087629   0.907640  0.900000\n",
              "23      E      G  0.072884 -0.001042  0.146810   4.827533  0.054794\n",
              "24      E      H  0.020808 -0.053118  0.094734   1.378202  0.900000\n",
              "25      F      G  0.059181 -0.014745  0.133107   3.919892  0.170786\n",
              "26      F      H  0.007104 -0.066822  0.081030   0.470562  0.900000\n",
              "27      G      H  0.052077 -0.021849  0.126003   3.449331  0.287441"
            ]
          },
          "metadata": {
            "tags": []
          },
          "execution_count": 13
        }
      ]
    },
    {
      "cell_type": "code",
      "metadata": {
        "id": "LOMv5Te7Csb8"
      },
      "source": [
        "# QQ-plot\n",
        "import statsmodels.api as sm\n",
        "import matplotlib.pyplot as plt\n"
      ],
      "execution_count": null,
      "outputs": []
    },
    {
      "cell_type": "code",
      "metadata": {
        "colab": {
          "base_uri": "https://localhost:8080/",
          "height": 279
        },
        "id": "9q_WSyL4KDwY",
        "outputId": "2e265b4e-e0cb-48e0-8540-c918b9f1a713"
      },
      "source": [
        "# res.anova_std_residuals are standardized residuals obtained from ANOVA (check above)\n",
        "sm.qqplot(res.anova_std_residuals, line='45')\n",
        "plt.xlabel(\"Theoretical Quantiles\")\n",
        "plt.ylabel(\"Standardized Residuals\")\n",
        "plt.show()"
      ],
      "execution_count": null,
      "outputs": [
        {
          "output_type": "display_data",
          "data": {
            "image/png": "[encoded data removed]",
            "text/plain": [
              "<Figure size 432x288 with 1 Axes>"
            ]
          },
          "metadata": {
            "tags": [],
            "needs_background": "light"
          }
        }
      ]
    },
    {
      "cell_type": "code",
      "metadata": {
        "colab": {
          "base_uri": "https://localhost:8080/",
          "height": 279
        },
        "id": "4_iCmchRRv_B",
        "outputId": "f40facb0-0102-472b-9b14-41c10ef73d90"
      },
      "source": [
        "# histogram\n",
        "plt.hist(res.anova_model_out.resid, bins='auto', histtype='bar', ec='k') \n",
        "plt.xlabel(\"Residuals\")\n",
        "plt.ylabel('Frequency')\n",
        "plt.show()"
      ],
      "execution_count": null,
      "outputs": [
        {
          "output_type": "display_data",
          "data": {
            "image/png": "[encoded data removed]",
            "text/plain": [
              "<Figure size 432x288 with 1 Axes>"
            ]
          },
          "metadata": {
            "tags": [],
            "needs_background": "light"
          }
        }
      ]
    },
    {
      "cell_type": "code",
      "metadata": {
        "colab": {
          "base_uri": "https://localhost:8080/",
          "height": 142
        },
        "id": "9S5mfPOD4DGJ",
        "outputId": "9974e512-fb94-43ea-8e9c-6e616632d4bd"
      },
      "source": [
        "# if you have a stacked table, you can use bioinfokit v1.0.3 or later for the Levene's test\n",
        "from bioinfokit.analys import stat \n",
        "res = stat()\n",
        "res.levene(df=df_melt, res_var='value', xfac_var='treatments')\n",
        "res.levene_summary"
      ],
      "execution_count": null,
      "outputs": [
        {
          "output_type": "execute_result",
          "data": {
            "text/html": [
              "<div>\n",
              "<style scoped>\n",
              "    .dataframe tbody tr th:only-of-type {\n",
              "        vertical-align: middle;\n",
              "    }\n",
              "\n",
              "    .dataframe tbody tr th {\n",
              "        vertical-align: top;\n",
              "    }\n",
              "\n",
              "    .dataframe thead th {\n",
              "        text-align: right;\n",
              "    }\n",
              "</style>\n",
              "<table border=\"1\" class=\"dataframe\">\n",
              "  <thead>\n",
              "    <tr style=\"text-align: right;\">\n",
              "      <th></th>\n",
              "      <th>Parameter</th>\n",
              "      <th>Value</th>\n",
              "    </tr>\n",
              "  </thead>\n",
              "  <tbody>\n",
              "    <tr>\n",
              "      <th>0</th>\n",
              "      <td>Test statistics (W)</td>\n",
              "      <td>0.2638</td>\n",
              "    </tr>\n",
              "    <tr>\n",
              "      <th>1</th>\n",
              "      <td>Degrees of freedom (Df)</td>\n",
              "      <td>7.0000</td>\n",
              "    </tr>\n",
              "    <tr>\n",
              "      <th>2</th>\n",
              "      <td>p value</td>\n",
              "      <td>0.9594</td>\n",
              "    </tr>\n",
              "  </tbody>\n",
              "</table>\n",
              "</div>"
            ],
            "text/plain": [
              "                 Parameter   Value\n",
              "0      Test statistics (W)  0.2638\n",
              "1  Degrees of freedom (Df)  7.0000\n",
              "2                  p value  0.9594"
            ]
          },
          "metadata": {
            "tags": []
          },
          "execution_count": 21
        }
      ]
    },
    {
      "cell_type": "code",
      "metadata": {
        "id": "V_2Uay4m6Ncf"
      },
      "source": [
        ""
      ],
      "execution_count": null,
      "outputs": []
    },
    {
      "cell_type": "code",
      "metadata": {
        "colab": {
          "base_uri": "https://localhost:8080/",
          "height": 142
        },
        "id": "h5pTXztm4cRn",
        "outputId": "f828a8a0-fdf7-4944-e052-3a9f81dbaeba"
      },
      "source": [
        "#ERBETA\n",
        "import pandas as pd\n",
        "# load data file\n",
        "df = pd.read_csv(\"/content/ERBETA.txt\", sep=\"\\t\")\n",
        "df"
      ],
      "execution_count": null,
      "outputs": [
        {
          "output_type": "execute_result",
          "data": {
            "text/html": [
              "<div>\n",
              "<style scoped>\n",
              "    .dataframe tbody tr th:only-of-type {\n",
              "        vertical-align: middle;\n",
              "    }\n",
              "\n",
              "    .dataframe tbody tr th {\n",
              "        vertical-align: top;\n",
              "    }\n",
              "\n",
              "    .dataframe thead th {\n",
              "        text-align: right;\n",
              "    }\n",
              "</style>\n",
              "<table border=\"1\" class=\"dataframe\">\n",
              "  <thead>\n",
              "    <tr style=\"text-align: right;\">\n",
              "      <th></th>\n",
              "      <th>A</th>\n",
              "      <th>B</th>\n",
              "      <th>C</th>\n",
              "      <th>D</th>\n",
              "      <th>E</th>\n",
              "      <th>F</th>\n",
              "      <th>G</th>\n",
              "      <th>H</th>\n",
              "    </tr>\n",
              "  </thead>\n",
              "  <tbody>\n",
              "    <tr>\n",
              "      <th>0</th>\n",
              "      <td>0.790500</td>\n",
              "      <td>1.185471</td>\n",
              "      <td>1.329677</td>\n",
              "      <td>1.305471</td>\n",
              "      <td>0.897504</td>\n",
              "      <td>0.751024</td>\n",
              "      <td>0.873591</td>\n",
              "      <td>1.182036</td>\n",
              "    </tr>\n",
              "    <tr>\n",
              "      <th>1</th>\n",
              "      <td>0.684571</td>\n",
              "      <td>1.272870</td>\n",
              "      <td>1.432498</td>\n",
              "      <td>1.228470</td>\n",
              "      <td>0.739809</td>\n",
              "      <td>0.595011</td>\n",
              "      <td>0.808474</td>\n",
              "      <td>1.237052</td>\n",
              "    </tr>\n",
              "    <tr>\n",
              "      <th>2</th>\n",
              "      <td>0.734282</td>\n",
              "      <td>1.127258</td>\n",
              "      <td>1.246390</td>\n",
              "      <td>1.006808</td>\n",
              "      <td>0.689574</td>\n",
              "      <td>0.725795</td>\n",
              "      <td>1.089279</td>\n",
              "      <td>1.138708</td>\n",
              "    </tr>\n",
              "  </tbody>\n",
              "</table>\n",
              "</div>"
            ],
            "text/plain": [
              "          A         B         C  ...         F         G         H\n",
              "0  0.790500  1.185471  1.329677  ...  0.751024  0.873591  1.182036\n",
              "1  0.684571  1.272870  1.432498  ...  0.595011  0.808474  1.237052\n",
              "2  0.734282  1.127258  1.246390  ...  0.725795  1.089279  1.138708\n",
              "\n",
              "[3 rows x 8 columns]"
            ]
          },
          "metadata": {
            "tags": []
          },
          "execution_count": 2
        }
      ]
    },
    {
      "cell_type": "code",
      "metadata": {
        "id": "OZ6JOlrDjhwD"
      },
      "source": [
        "# reshape the d dataframe suitable for statsmodels package \n",
        "df_melt = pd.melt(df.reset_index(), id_vars=['index'], value_vars=['A', 'B', 'C', 'D','E','F','G','H'])\n",
        "# replace column names\n",
        "df_melt.columns = ['index', 'treatments', 'value']"
      ],
      "execution_count": null,
      "outputs": []
    },
    {
      "cell_type": "code",
      "metadata": {
        "id": "rMIWsxfJmdOQ"
      },
      "source": [
        "# generate a boxplot to see the data distribution by treatments. Using boxplot, we can \n",
        "# easily detect the differences between different treatments\n",
        "import matplotlib.pyplot as plt\n",
        "import seaborn as sns"
      ],
      "execution_count": null,
      "outputs": []
    },
    {
      "cell_type": "code",
      "metadata": {
        "colab": {
          "base_uri": "https://localhost:8080/",
          "height": 279
        },
        "id": "nMOlrJEDmhYw",
        "outputId": "dd6074f6-b655-4a43-f559-65f42b51667e"
      },
      "source": [
        "ax = sns.boxplot(x='treatments', y='value', data=df_melt, color='#99c2a2')\n",
        "ax = sns.swarmplot(x=\"treatments\", y=\"value\", data=df_melt, color='#7d0013')\n",
        "plt.show()"
      ],
      "execution_count": null,
      "outputs": [
        {
          "output_type": "display_data",
          "data": {
            "image/png": "[encoded data removed]",
            "text/plain": [
              "<Figure size 432x288 with 1 Axes>"
            ]
          },
          "metadata": {
            "tags": [],
            "needs_background": "light"
          }
        }
      ]
    },
    {
      "cell_type": "code",
      "metadata": {
        "colab": {
          "base_uri": "https://localhost:8080/"
        },
        "id": "hsXjyM3jmnb6",
        "outputId": "030429bd-c6e5-44d6-fa45-84582b17f5b0"
      },
      "source": [
        "import scipy.stats as stats\n",
        "# stats f_oneway functions takes the groups as input and returns ANOVA F and p value\n",
        "fvalue, pvalue = stats.f_oneway(df['A'], df['B'], df['C'], df['D'],df['E'],df['F'],df['G'],df['H'])\n",
        "print(fvalue, pvalue)"
      ],
      "execution_count": null,
      "outputs": [
        {
          "output_type": "stream",
          "text": [
            "17.9942143838955 1.776572164655396e-06\n"
          ],
          "name": "stdout"
        }
      ]
    },
    {
      "cell_type": "code",
      "metadata": {
        "colab": {
          "base_uri": "https://localhost:8080/"
        },
        "id": "OpvJ3jgOmsbQ",
        "outputId": "bd2c00dc-7599-4209-d874-377ea1f3ee31"
      },
      "source": [
        "# get ANOVA table as R like output\n",
        "import statsmodels.api as sm\n",
        "from statsmodels.formula.api import ols"
      ],
      "execution_count": null,
      "outputs": [
        {
          "output_type": "stream",
          "text": [
            "/usr/local/lib/python3.7/dist-packages/statsmodels/tools/_testing.py:19: FutureWarning: pandas.util.testing is deprecated. Use the functions in the public API at pandas.testing instead.\n",
            "  import pandas.util.testing as tm\n"
          ],
          "name": "stderr"
        }
      ]
    },
    {
      "cell_type": "code",
      "metadata": {
        "colab": {
          "base_uri": "https://localhost:8080/",
          "height": 111
        },
        "id": "9ukWZAJ_mwwQ",
        "outputId": "96568f43-de52-4e54-991e-66453bdb63e8"
      },
      "source": [
        "# Ordinary Least Squares (OLS) model\n",
        "model = ols('value ~ C(treatments)', data=df_melt).fit()\n",
        "anova_table = sm.stats.anova_lm(model, typ=2)\n",
        "anova_table"
      ],
      "execution_count": null,
      "outputs": [
        {
          "output_type": "execute_result",
          "data": {
            "text/html": [
              "<div>\n",
              "<style scoped>\n",
              "    .dataframe tbody tr th:only-of-type {\n",
              "        vertical-align: middle;\n",
              "    }\n",
              "\n",
              "    .dataframe tbody tr th {\n",
              "        vertical-align: top;\n",
              "    }\n",
              "\n",
              "    .dataframe thead th {\n",
              "        text-align: right;\n",
              "    }\n",
              "</style>\n",
              "<table border=\"1\" class=\"dataframe\">\n",
              "  <thead>\n",
              "    <tr style=\"text-align: right;\">\n",
              "      <th></th>\n",
              "      <th>sum_sq</th>\n",
              "      <th>df</th>\n",
              "      <th>F</th>\n",
              "      <th>PR(&gt;F)</th>\n",
              "    </tr>\n",
              "  </thead>\n",
              "  <tbody>\n",
              "    <tr>\n",
              "      <th>C(treatments)</th>\n",
              "      <td>1.318338</td>\n",
              "      <td>7.0</td>\n",
              "      <td>17.994214</td>\n",
              "      <td>0.000002</td>\n",
              "    </tr>\n",
              "    <tr>\n",
              "      <th>Residual</th>\n",
              "      <td>0.167462</td>\n",
              "      <td>16.0</td>\n",
              "      <td>NaN</td>\n",
              "      <td>NaN</td>\n",
              "    </tr>\n",
              "  </tbody>\n",
              "</table>\n",
              "</div>"
            ],
            "text/plain": [
              "                 sum_sq    df          F    PR(>F)\n",
              "C(treatments)  1.318338   7.0  17.994214  0.000002\n",
              "Residual       0.167462  16.0        NaN       NaN"
            ]
          },
          "metadata": {
            "tags": []
          },
          "execution_count": 8
        }
      ]
    },
    {
      "cell_type": "code",
      "metadata": {
        "colab": {
          "base_uri": "https://localhost:8080/"
        },
        "id": "1mNa-2Vtm3R_",
        "outputId": "ed8e7e5f-7c5f-4a16-bba4-082696605860"
      },
      "source": [
        "pip install bioinfokit"
      ],
      "execution_count": null,
      "outputs": [
        {
          "output_type": "stream",
          "text": [
            "Collecting bioinfokit\n",
            "\u001b[?25l  Downloading https://files.pythonhosted.org/packages/0f/2b/c219e90dfddcaa19726152cd12c4f1beae0c9e0efe82e9fa75dd81adad19/bioinfokit-2.0.4.tar.gz (82kB)\n",
            "\r\u001b[K     |████                            | 10kB 10.7MB/s eta 0:00:01\r\u001b[K     |████████                        | 20kB 15.5MB/s eta 0:00:01\r\u001b[K     |████████████                    | 30kB 13.7MB/s eta 0:00:01\r\u001b[K     |███████████████▉                | 40kB 8.8MB/s eta 0:00:01\r\u001b[K     |███████████████████▉            | 51kB 5.8MB/s eta 0:00:01\r\u001b[K     |███████████████████████▉        | 61kB 5.3MB/s eta 0:00:01\r\u001b[K     |███████████████████████████▊    | 71kB 5.8MB/s eta 0:00:01\r\u001b[K     |███████████████████████████████▊| 81kB 6.4MB/s eta 0:00:01\r\u001b[K     |████████████████████████████████| 92kB 3.6MB/s \n",
            "\u001b[?25hRequirement already satisfied: pandas in /usr/local/lib/python3.7/dist-packages (from bioinfokit) (1.1.5)\n",
            "Requirement already satisfied: numpy in /usr/local/lib/python3.7/dist-packages (from bioinfokit) (1.19.5)\n",
            "Requirement already satisfied: matplotlib in /usr/local/lib/python3.7/dist-packages (from bioinfokit) (3.2.2)\n",
            "Requirement already satisfied: scipy in /usr/local/lib/python3.7/dist-packages (from bioinfokit) (1.4.1)\n",
            "Requirement already satisfied: scikit-learn in /usr/local/lib/python3.7/dist-packages (from bioinfokit) (0.22.2.post1)\n",
            "Requirement already satisfied: seaborn in /usr/local/lib/python3.7/dist-packages (from bioinfokit) (0.11.1)\n",
            "Requirement already satisfied: matplotlib-venn in /usr/local/lib/python3.7/dist-packages (from bioinfokit) (0.11.6)\n",
            "Requirement already satisfied: tabulate in /usr/local/lib/python3.7/dist-packages (from bioinfokit) (0.8.9)\n",
            "Requirement already satisfied: statsmodels in /usr/local/lib/python3.7/dist-packages (from bioinfokit) (0.10.2)\n",
            "Collecting textwrap3\n",
            "  Downloading https://files.pythonhosted.org/packages/77/9c/a53e561d496ee5866bbeea4d3a850b3b545ed854f8a21007c1e0d872e94d/textwrap3-0.9.2-py2.py3-none-any.whl\n",
            "Collecting adjustText\n",
            "  Downloading https://files.pythonhosted.org/packages/9e/15/4157718bf323fd5f5b81c891c660d0f388e042d2689a558bf1389632dc44/adjustText-0.7.3.tar.gz\n",
            "Requirement already satisfied: python-dateutil>=2.7.3 in /usr/local/lib/python3.7/dist-packages (from pandas->bioinfokit) (2.8.1)\n",
            "Requirement already satisfied: pytz>=2017.2 in /usr/local/lib/python3.7/dist-packages (from pandas->bioinfokit) (2018.9)\n",
            "Requirement already satisfied: pyparsing!=2.0.4,!=2.1.2,!=2.1.6,>=2.0.1 in /usr/local/lib/python3.7/dist-packages (from matplotlib->bioinfokit) (2.4.7)\n",
            "Requirement already satisfied: kiwisolver>=1.0.1 in /usr/local/lib/python3.7/dist-packages (from matplotlib->bioinfokit) (1.3.1)\n",
            "Requirement already satisfied: cycler>=0.10 in /usr/local/lib/python3.7/dist-packages (from matplotlib->bioinfokit) (0.10.0)\n",
            "Requirement already satisfied: joblib>=0.11 in /usr/local/lib/python3.7/dist-packages (from scikit-learn->bioinfokit) (1.0.1)\n",
            "Requirement already satisfied: patsy>=0.4.0 in /usr/local/lib/python3.7/dist-packages (from statsmodels->bioinfokit) (0.5.1)\n",
            "Requirement already satisfied: six>=1.5 in /usr/local/lib/python3.7/dist-packages (from python-dateutil>=2.7.3->pandas->bioinfokit) (1.15.0)\n",
            "Building wheels for collected packages: bioinfokit, adjustText\n",
            "  Building wheel for bioinfokit (setup.py) ... \u001b[?25l\u001b[?25hdone\n",
            "  Created wheel for bioinfokit: filename=bioinfokit-2.0.4-cp37-none-any.whl size=56008 sha256=2f239fc556f8d2c5e6c145e0650c3d7f29cb6c4aeb318d9fba2235c96985eb4c\n",
            "  Stored in directory: /root/.cache/pip/wheels/43/cf/aa/4a4fe54a3edb663ee7bd9b245bd946506c8bd4b99f4ae00507\n",
            "  Building wheel for adjustText (setup.py) ... \u001b[?25l\u001b[?25hdone\n",
            "  Created wheel for adjustText: filename=adjustText-0.7.3-cp37-none-any.whl size=7100 sha256=4469dc40fe7a8cd7a73ff87411597867ffd75e178adeaaf73e0bb25f43ed9a04\n",
            "  Stored in directory: /root/.cache/pip/wheels/41/95/74/7d347e136d672f8bc28e937032bc92baf4f80856763a7e7b72\n",
            "Successfully built bioinfokit adjustText\n",
            "Installing collected packages: textwrap3, adjustText, bioinfokit\n",
            "Successfully installed adjustText-0.7.3 bioinfokit-2.0.4 textwrap3-0.9.2\n"
          ],
          "name": "stdout"
        }
      ]
    },
    {
      "cell_type": "code",
      "metadata": {
        "colab": {
          "base_uri": "https://localhost:8080/",
          "height": 111
        },
        "id": "uRD7omVym7zv",
        "outputId": "e9266727-8190-4a10-831b-e8398a369304"
      },
      "source": [
        "from bioinfokit.analys import stat\n",
        "res = stat()\n",
        "res.anova_stat(df=df_melt, res_var='value', anova_model='value ~ C(treatments)')\n",
        "res.anova_summary"
      ],
      "execution_count": null,
      "outputs": [
        {
          "output_type": "execute_result",
          "data": {
            "text/html": [
              "<div>\n",
              "<style scoped>\n",
              "    .dataframe tbody tr th:only-of-type {\n",
              "        vertical-align: middle;\n",
              "    }\n",
              "\n",
              "    .dataframe tbody tr th {\n",
              "        vertical-align: top;\n",
              "    }\n",
              "\n",
              "    .dataframe thead th {\n",
              "        text-align: right;\n",
              "    }\n",
              "</style>\n",
              "<table border=\"1\" class=\"dataframe\">\n",
              "  <thead>\n",
              "    <tr style=\"text-align: right;\">\n",
              "      <th></th>\n",
              "      <th>df</th>\n",
              "      <th>sum_sq</th>\n",
              "      <th>mean_sq</th>\n",
              "      <th>F</th>\n",
              "      <th>PR(&gt;F)</th>\n",
              "    </tr>\n",
              "  </thead>\n",
              "  <tbody>\n",
              "    <tr>\n",
              "      <th>C(treatments)</th>\n",
              "      <td>7.0</td>\n",
              "      <td>1.318338</td>\n",
              "      <td>0.188334</td>\n",
              "      <td>17.994214</td>\n",
              "      <td>0.000002</td>\n",
              "    </tr>\n",
              "    <tr>\n",
              "      <th>Residual</th>\n",
              "      <td>16.0</td>\n",
              "      <td>0.167462</td>\n",
              "      <td>0.010466</td>\n",
              "      <td>NaN</td>\n",
              "      <td>NaN</td>\n",
              "    </tr>\n",
              "  </tbody>\n",
              "</table>\n",
              "</div>"
            ],
            "text/plain": [
              "                 df    sum_sq   mean_sq          F    PR(>F)\n",
              "C(treatments)   7.0  1.318338  0.188334  17.994214  0.000002\n",
              "Residual       16.0  0.167462  0.010466        NaN       NaN"
            ]
          },
          "metadata": {
            "tags": []
          },
          "execution_count": 11
        }
      ]
    },
    {
      "cell_type": "code",
      "metadata": {
        "colab": {
          "base_uri": "https://localhost:8080/",
          "height": 917
        },
        "id": "meSZpl6_nAg3",
        "outputId": "aed9acfc-d4b4-4eb8-f9fd-44afcb50f769"
      },
      "source": [
        "from bioinfokit.analys import stat\n",
        "res = stat()\n",
        "res.tukey_hsd(df=df_melt, res_var='value', xfac_var='treatments', anova_model='value ~ C(treatments)')\n",
        "res.tukey_summary"
      ],
      "execution_count": null,
      "outputs": [
        {
          "output_type": "execute_result",
          "data": {
            "text/html": [
              "<div>\n",
              "<style scoped>\n",
              "    .dataframe tbody tr th:only-of-type {\n",
              "        vertical-align: middle;\n",
              "    }\n",
              "\n",
              "    .dataframe tbody tr th {\n",
              "        vertical-align: top;\n",
              "    }\n",
              "\n",
              "    .dataframe thead th {\n",
              "        text-align: right;\n",
              "    }\n",
              "</style>\n",
              "<table border=\"1\" class=\"dataframe\">\n",
              "  <thead>\n",
              "    <tr style=\"text-align: right;\">\n",
              "      <th></th>\n",
              "      <th>group1</th>\n",
              "      <th>group2</th>\n",
              "      <th>Diff</th>\n",
              "      <th>Lower</th>\n",
              "      <th>Upper</th>\n",
              "      <th>q-value</th>\n",
              "      <th>p-value</th>\n",
              "    </tr>\n",
              "  </thead>\n",
              "  <tbody>\n",
              "    <tr>\n",
              "      <th>0</th>\n",
              "      <td>A</td>\n",
              "      <td>B</td>\n",
              "      <td>0.458749</td>\n",
              "      <td>0.169530</td>\n",
              "      <td>0.747968</td>\n",
              "      <td>7.766724</td>\n",
              "      <td>0.001000</td>\n",
              "    </tr>\n",
              "    <tr>\n",
              "      <th>1</th>\n",
              "      <td>A</td>\n",
              "      <td>C</td>\n",
              "      <td>0.599738</td>\n",
              "      <td>0.310519</td>\n",
              "      <td>0.888956</td>\n",
              "      <td>10.153692</td>\n",
              "      <td>0.001000</td>\n",
              "    </tr>\n",
              "    <tr>\n",
              "      <th>2</th>\n",
              "      <td>A</td>\n",
              "      <td>D</td>\n",
              "      <td>0.443799</td>\n",
              "      <td>0.154580</td>\n",
              "      <td>0.733018</td>\n",
              "      <td>7.513614</td>\n",
              "      <td>0.001404</td>\n",
              "    </tr>\n",
              "    <tr>\n",
              "      <th>3</th>\n",
              "      <td>A</td>\n",
              "      <td>E</td>\n",
              "      <td>0.039178</td>\n",
              "      <td>-0.250041</td>\n",
              "      <td>0.328397</td>\n",
              "      <td>0.663295</td>\n",
              "      <td>0.900000</td>\n",
              "    </tr>\n",
              "    <tr>\n",
              "      <th>4</th>\n",
              "      <td>A</td>\n",
              "      <td>F</td>\n",
              "      <td>0.045841</td>\n",
              "      <td>-0.243378</td>\n",
              "      <td>0.335060</td>\n",
              "      <td>0.776095</td>\n",
              "      <td>0.900000</td>\n",
              "    </tr>\n",
              "    <tr>\n",
              "      <th>5</th>\n",
              "      <td>A</td>\n",
              "      <td>G</td>\n",
              "      <td>0.187331</td>\n",
              "      <td>-0.101888</td>\n",
              "      <td>0.476550</td>\n",
              "      <td>3.171550</td>\n",
              "      <td>0.379864</td>\n",
              "    </tr>\n",
              "    <tr>\n",
              "      <th>6</th>\n",
              "      <td>A</td>\n",
              "      <td>H</td>\n",
              "      <td>0.449481</td>\n",
              "      <td>0.160262</td>\n",
              "      <td>0.738700</td>\n",
              "      <td>7.609818</td>\n",
              "      <td>0.001235</td>\n",
              "    </tr>\n",
              "    <tr>\n",
              "      <th>7</th>\n",
              "      <td>B</td>\n",
              "      <td>C</td>\n",
              "      <td>0.140989</td>\n",
              "      <td>-0.148230</td>\n",
              "      <td>0.430207</td>\n",
              "      <td>2.386968</td>\n",
              "      <td>0.674787</td>\n",
              "    </tr>\n",
              "    <tr>\n",
              "      <th>8</th>\n",
              "      <td>B</td>\n",
              "      <td>D</td>\n",
              "      <td>0.014950</td>\n",
              "      <td>-0.274269</td>\n",
              "      <td>0.304169</td>\n",
              "      <td>0.253109</td>\n",
              "      <td>0.900000</td>\n",
              "    </tr>\n",
              "    <tr>\n",
              "      <th>9</th>\n",
              "      <td>B</td>\n",
              "      <td>E</td>\n",
              "      <td>0.419571</td>\n",
              "      <td>0.130352</td>\n",
              "      <td>0.708790</td>\n",
              "      <td>7.103428</td>\n",
              "      <td>0.002450</td>\n",
              "    </tr>\n",
              "    <tr>\n",
              "      <th>10</th>\n",
              "      <td>B</td>\n",
              "      <td>F</td>\n",
              "      <td>0.504590</td>\n",
              "      <td>0.215371</td>\n",
              "      <td>0.793809</td>\n",
              "      <td>8.542819</td>\n",
              "      <td>0.001000</td>\n",
              "    </tr>\n",
              "    <tr>\n",
              "      <th>11</th>\n",
              "      <td>B</td>\n",
              "      <td>G</td>\n",
              "      <td>0.271418</td>\n",
              "      <td>-0.017800</td>\n",
              "      <td>0.560637</td>\n",
              "      <td>4.595174</td>\n",
              "      <td>0.074282</td>\n",
              "    </tr>\n",
              "    <tr>\n",
              "      <th>12</th>\n",
              "      <td>B</td>\n",
              "      <td>H</td>\n",
              "      <td>0.009268</td>\n",
              "      <td>-0.279951</td>\n",
              "      <td>0.298487</td>\n",
              "      <td>0.156905</td>\n",
              "      <td>0.900000</td>\n",
              "    </tr>\n",
              "    <tr>\n",
              "      <th>13</th>\n",
              "      <td>C</td>\n",
              "      <td>D</td>\n",
              "      <td>0.155939</td>\n",
              "      <td>-0.133280</td>\n",
              "      <td>0.445158</td>\n",
              "      <td>2.640078</td>\n",
              "      <td>0.580056</td>\n",
              "    </tr>\n",
              "    <tr>\n",
              "      <th>14</th>\n",
              "      <td>C</td>\n",
              "      <td>E</td>\n",
              "      <td>0.560559</td>\n",
              "      <td>0.271341</td>\n",
              "      <td>0.849778</td>\n",
              "      <td>9.490396</td>\n",
              "      <td>0.001000</td>\n",
              "    </tr>\n",
              "    <tr>\n",
              "      <th>15</th>\n",
              "      <td>C</td>\n",
              "      <td>F</td>\n",
              "      <td>0.645578</td>\n",
              "      <td>0.356360</td>\n",
              "      <td>0.934797</td>\n",
              "      <td>10.929787</td>\n",
              "      <td>0.001000</td>\n",
              "    </tr>\n",
              "    <tr>\n",
              "      <th>16</th>\n",
              "      <td>C</td>\n",
              "      <td>G</td>\n",
              "      <td>0.412407</td>\n",
              "      <td>0.123188</td>\n",
              "      <td>0.701626</td>\n",
              "      <td>6.982142</td>\n",
              "      <td>0.002890</td>\n",
              "    </tr>\n",
              "    <tr>\n",
              "      <th>17</th>\n",
              "      <td>C</td>\n",
              "      <td>H</td>\n",
              "      <td>0.150256</td>\n",
              "      <td>-0.138963</td>\n",
              "      <td>0.439475</td>\n",
              "      <td>2.543873</td>\n",
              "      <td>0.616063</td>\n",
              "    </tr>\n",
              "    <tr>\n",
              "      <th>18</th>\n",
              "      <td>D</td>\n",
              "      <td>E</td>\n",
              "      <td>0.404621</td>\n",
              "      <td>0.115402</td>\n",
              "      <td>0.693840</td>\n",
              "      <td>6.850319</td>\n",
              "      <td>0.003462</td>\n",
              "    </tr>\n",
              "    <tr>\n",
              "      <th>19</th>\n",
              "      <td>D</td>\n",
              "      <td>F</td>\n",
              "      <td>0.489640</td>\n",
              "      <td>0.200421</td>\n",
              "      <td>0.778859</td>\n",
              "      <td>8.289709</td>\n",
              "      <td>0.001000</td>\n",
              "    </tr>\n",
              "    <tr>\n",
              "      <th>20</th>\n",
              "      <td>D</td>\n",
              "      <td>G</td>\n",
              "      <td>0.256468</td>\n",
              "      <td>-0.032751</td>\n",
              "      <td>0.545687</td>\n",
              "      <td>4.342064</td>\n",
              "      <td>0.102303</td>\n",
              "    </tr>\n",
              "    <tr>\n",
              "      <th>21</th>\n",
              "      <td>D</td>\n",
              "      <td>H</td>\n",
              "      <td>0.005682</td>\n",
              "      <td>-0.283536</td>\n",
              "      <td>0.294901</td>\n",
              "      <td>0.096204</td>\n",
              "      <td>0.900000</td>\n",
              "    </tr>\n",
              "    <tr>\n",
              "      <th>22</th>\n",
              "      <td>E</td>\n",
              "      <td>F</td>\n",
              "      <td>0.085019</td>\n",
              "      <td>-0.204200</td>\n",
              "      <td>0.374238</td>\n",
              "      <td>1.439391</td>\n",
              "      <td>0.900000</td>\n",
              "    </tr>\n",
              "    <tr>\n",
              "      <th>23</th>\n",
              "      <td>E</td>\n",
              "      <td>G</td>\n",
              "      <td>0.148152</td>\n",
              "      <td>-0.141066</td>\n",
              "      <td>0.437371</td>\n",
              "      <td>2.508254</td>\n",
              "      <td>0.629394</td>\n",
              "    </tr>\n",
              "    <tr>\n",
              "      <th>24</th>\n",
              "      <td>E</td>\n",
              "      <td>H</td>\n",
              "      <td>0.410303</td>\n",
              "      <td>0.121084</td>\n",
              "      <td>0.699522</td>\n",
              "      <td>6.946523</td>\n",
              "      <td>0.003035</td>\n",
              "    </tr>\n",
              "    <tr>\n",
              "      <th>25</th>\n",
              "      <td>F</td>\n",
              "      <td>G</td>\n",
              "      <td>0.233171</td>\n",
              "      <td>-0.056047</td>\n",
              "      <td>0.522390</td>\n",
              "      <td>3.947645</td>\n",
              "      <td>0.165298</td>\n",
              "    </tr>\n",
              "    <tr>\n",
              "      <th>26</th>\n",
              "      <td>F</td>\n",
              "      <td>H</td>\n",
              "      <td>0.495322</td>\n",
              "      <td>0.206103</td>\n",
              "      <td>0.784541</td>\n",
              "      <td>8.385914</td>\n",
              "      <td>0.001000</td>\n",
              "    </tr>\n",
              "    <tr>\n",
              "      <th>27</th>\n",
              "      <td>G</td>\n",
              "      <td>H</td>\n",
              "      <td>0.262151</td>\n",
              "      <td>-0.027068</td>\n",
              "      <td>0.551370</td>\n",
              "      <td>4.438269</td>\n",
              "      <td>0.090508</td>\n",
              "    </tr>\n",
              "  </tbody>\n",
              "</table>\n",
              "</div>"
            ],
            "text/plain": [
              "   group1 group2      Diff     Lower     Upper    q-value   p-value\n",
              "0       A      B  0.458749  0.169530  0.747968   7.766724  0.001000\n",
              "1       A      C  0.599738  0.310519  0.888956  10.153692  0.001000\n",
              "2       A      D  0.443799  0.154580  0.733018   7.513614  0.001404\n",
              "3       A      E  0.039178 -0.250041  0.328397   0.663295  0.900000\n",
              "4       A      F  0.045841 -0.243378  0.335060   0.776095  0.900000\n",
              "5       A      G  0.187331 -0.101888  0.476550   3.171550  0.379864\n",
              "6       A      H  0.449481  0.160262  0.738700   7.609818  0.001235\n",
              "7       B      C  0.140989 -0.148230  0.430207   2.386968  0.674787\n",
              "8       B      D  0.014950 -0.274269  0.304169   0.253109  0.900000\n",
              "9       B      E  0.419571  0.130352  0.708790   7.103428  0.002450\n",
              "10      B      F  0.504590  0.215371  0.793809   8.542819  0.001000\n",
              "11      B      G  0.271418 -0.017800  0.560637   4.595174  0.074282\n",
              "12      B      H  0.009268 -0.279951  0.298487   0.156905  0.900000\n",
              "13      C      D  0.155939 -0.133280  0.445158   2.640078  0.580056\n",
              "14      C      E  0.560559  0.271341  0.849778   9.490396  0.001000\n",
              "15      C      F  0.645578  0.356360  0.934797  10.929787  0.001000\n",
              "16      C      G  0.412407  0.123188  0.701626   6.982142  0.002890\n",
              "17      C      H  0.150256 -0.138963  0.439475   2.543873  0.616063\n",
              "18      D      E  0.404621  0.115402  0.693840   6.850319  0.003462\n",
              "19      D      F  0.489640  0.200421  0.778859   8.289709  0.001000\n",
              "20      D      G  0.256468 -0.032751  0.545687   4.342064  0.102303\n",
              "21      D      H  0.005682 -0.283536  0.294901   0.096204  0.900000\n",
              "22      E      F  0.085019 -0.204200  0.374238   1.439391  0.900000\n",
              "23      E      G  0.148152 -0.141066  0.437371   2.508254  0.629394\n",
              "24      E      H  0.410303  0.121084  0.699522   6.946523  0.003035\n",
              "25      F      G  0.233171 -0.056047  0.522390   3.947645  0.165298\n",
              "26      F      H  0.495322  0.206103  0.784541   8.385914  0.001000\n",
              "27      G      H  0.262151 -0.027068  0.551370   4.438269  0.090508"
            ]
          },
          "metadata": {
            "tags": []
          },
          "execution_count": 12
        }
      ]
    },
    {
      "cell_type": "code",
      "metadata": {
        "id": "Pj1UC1TTo_W_"
      },
      "source": [
        "# QQ-plot\n",
        "import statsmodels.api as sm\n",
        "import matplotlib.pyplot as plt"
      ],
      "execution_count": null,
      "outputs": []
    },
    {
      "cell_type": "code",
      "metadata": {
        "colab": {
          "base_uri": "https://localhost:8080/",
          "height": 279
        },
        "id": "Rg3KDXq-pOAP",
        "outputId": "2eb39dd4-6f9a-4013-c57d-d8b39402ca6b"
      },
      "source": [
        "sm.qqplot(res.anova_std_residuals, line='45')\n",
        "plt.xlabel(\"Theoretical Quantiles\")\n",
        "plt.ylabel(\"Standardized Residuals\")\n",
        "plt.show()"
      ],
      "execution_count": null,
      "outputs": [
        {
          "output_type": "display_data",
          "data": {
            "image/png": "[encoded data removed]",
            "text/plain": [
              "<Figure size 432x288 with 1 Axes>"
            ]
          },
          "metadata": {
            "tags": [],
            "needs_background": "light"
          }
        }
      ]
    },
    {
      "cell_type": "code",
      "metadata": {
        "colab": {
          "base_uri": "https://localhost:8080/",
          "height": 279
        },
        "id": "cB6EcaeppQle",
        "outputId": "f210f43c-f1f3-4add-a476-a5585107baed"
      },
      "source": [
        "#histogram\n",
        "plt.hist(res.anova_model_out.resid, bins='auto', histtype='bar', ec='k') \n",
        "plt.xlabel(\"Residuals\")\n",
        "plt.ylabel('Frequency')\n",
        "plt.show()"
      ],
      "execution_count": null,
      "outputs": [
        {
          "output_type": "display_data",
          "data": {
            "image/png": "[encoded data removed]",
            "text/plain": [
              "<Figure size 432x288 with 1 Axes>"
            ]
          },
          "metadata": {
            "tags": [],
            "needs_background": "light"
          }
        }
      ]
    },
    {
      "cell_type": "code",
      "metadata": {
        "colab": {
          "base_uri": "https://localhost:8080/"
        },
        "id": "gXbjqXXOpWMO",
        "outputId": "9df55e49-3b36-4635-8427-220ce46b887a"
      },
      "source": [
        " # standardized residuals lie around the 45-degree line, this suggests that the residuals are approximately normally distributed\n",
        "import scipy.stats as stats\n",
        "w, pvalue = stats.shapiro(model.resid)\n",
        "print(w, pvalue)\n",
        "#Used ZS\n"
      ],
      "execution_count": null,
      "outputs": [
        {
          "output_type": "stream",
          "text": [
            "0.9841324090957642 0.9582085013389587\n"
          ],
          "name": "stdout"
        }
      ]
    },
    {
      "cell_type": "code",
      "metadata": {
        "colab": {
          "base_uri": "https://localhost:8080/"
        },
        "id": "yZlzQvda2PSc",
        "outputId": "a9ffa019-6c44-4010-8a0a-5205d1c2f088"
      },
      "source": [
        "import scipy.stats as stats\n",
        "w, pvalue = stats.bartlett(df['A'], df['B'], df['C'], df['D'],df['E'],df['F'],df['G'],df['H'])\n",
        "print(w, pvalue)"
      ],
      "execution_count": null,
      "outputs": [
        {
          "output_type": "stream",
          "text": [
            "3.9671292401805873 0.7835556123389469\n"
          ],
          "name": "stdout"
        }
      ]
    },
    {
      "cell_type": "code",
      "metadata": {
        "colab": {
          "base_uri": "https://localhost:8080/",
          "height": 142
        },
        "id": "ncAtlvB95o2L",
        "outputId": "7d79dae8-0a34-4ae1-ef5d-19231b493f26"
      },
      "source": [
        "from bioinfokit.analys import stat \n",
        "res = stat()\n",
        "res.bartlett(df=df_melt, res_var='value', xfac_var='treatments')\n",
        "res.bartlett_summary"
      ],
      "execution_count": null,
      "outputs": [
        {
          "output_type": "execute_result",
          "data": {
            "text/html": [
              "<div>\n",
              "<style scoped>\n",
              "    .dataframe tbody tr th:only-of-type {\n",
              "        vertical-align: middle;\n",
              "    }\n",
              "\n",
              "    .dataframe tbody tr th {\n",
              "        vertical-align: top;\n",
              "    }\n",
              "\n",
              "    .dataframe thead th {\n",
              "        text-align: right;\n",
              "    }\n",
              "</style>\n",
              "<table border=\"1\" class=\"dataframe\">\n",
              "  <thead>\n",
              "    <tr style=\"text-align: right;\">\n",
              "      <th></th>\n",
              "      <th>Parameter</th>\n",
              "      <th>Value</th>\n",
              "    </tr>\n",
              "  </thead>\n",
              "  <tbody>\n",
              "    <tr>\n",
              "      <th>0</th>\n",
              "      <td>Test statistics (T)</td>\n",
              "      <td>3.9671</td>\n",
              "    </tr>\n",
              "    <tr>\n",
              "      <th>1</th>\n",
              "      <td>Degrees of freedom (Df)</td>\n",
              "      <td>7.0000</td>\n",
              "    </tr>\n",
              "    <tr>\n",
              "      <th>2</th>\n",
              "      <td>p value</td>\n",
              "      <td>0.7836</td>\n",
              "    </tr>\n",
              "  </tbody>\n",
              "</table>\n",
              "</div>"
            ],
            "text/plain": [
              "                 Parameter   Value\n",
              "0      Test statistics (T)  3.9671\n",
              "1  Degrees of freedom (Df)  7.0000\n",
              "2                  p value  0.7836"
            ]
          },
          "metadata": {
            "tags": []
          },
          "execution_count": 18
        }
      ]
    },
    {
      "cell_type": "code",
      "metadata": {
        "id": "aEk9sRu35uwK"
      },
      "source": [
        "# the p value (0.7836) is non significant, we fail to reject null hypothesis and conclude that treatments have equal variances.\n",
        "\n"
      ],
      "execution_count": null,
      "outputs": []
    },
    {
      "cell_type": "code",
      "metadata": {
        "colab": {
          "base_uri": "https://localhost:8080/",
          "height": 142
        },
        "id": "nLZVcolV6Kvr",
        "outputId": "a8bd038f-3f5e-4130-b70a-274ce5ba4cfe"
      },
      "source": [
        "#MNSOD\n",
        "\n",
        "import pandas as pd\n",
        "# load data file\n",
        "df = pd.read_csv(\"/content/MNSOD.txt\", sep=\"\\t\")\n",
        "df"
      ],
      "execution_count": null,
      "outputs": [
        {
          "output_type": "execute_result",
          "data": {
            "text/html": [
              "<div>\n",
              "<style scoped>\n",
              "    .dataframe tbody tr th:only-of-type {\n",
              "        vertical-align: middle;\n",
              "    }\n",
              "\n",
              "    .dataframe tbody tr th {\n",
              "        vertical-align: top;\n",
              "    }\n",
              "\n",
              "    .dataframe thead th {\n",
              "        text-align: right;\n",
              "    }\n",
              "</style>\n",
              "<table border=\"1\" class=\"dataframe\">\n",
              "  <thead>\n",
              "    <tr style=\"text-align: right;\">\n",
              "      <th></th>\n",
              "      <th>A</th>\n",
              "      <th>B</th>\n",
              "      <th>C</th>\n",
              "      <th>D</th>\n",
              "      <th>E</th>\n",
              "      <th>F</th>\n",
              "      <th>G</th>\n",
              "      <th>H</th>\n",
              "    </tr>\n",
              "  </thead>\n",
              "  <tbody>\n",
              "    <tr>\n",
              "      <th>0</th>\n",
              "      <td>0.343390</td>\n",
              "      <td>0.518813</td>\n",
              "      <td>0.512824</td>\n",
              "      <td>0.503131</td>\n",
              "      <td>0.593912</td>\n",
              "      <td>0.681530</td>\n",
              "      <td>0.667040</td>\n",
              "      <td>0.679557</td>\n",
              "    </tr>\n",
              "    <tr>\n",
              "      <th>1</th>\n",
              "      <td>0.405961</td>\n",
              "      <td>0.550234</td>\n",
              "      <td>0.468603</td>\n",
              "      <td>0.566593</td>\n",
              "      <td>0.596542</td>\n",
              "      <td>0.676215</td>\n",
              "      <td>0.723106</td>\n",
              "      <td>0.734341</td>\n",
              "    </tr>\n",
              "    <tr>\n",
              "      <th>2</th>\n",
              "      <td>0.227852</td>\n",
              "      <td>0.337555</td>\n",
              "      <td>0.290688</td>\n",
              "      <td>0.487873</td>\n",
              "      <td>0.467238</td>\n",
              "      <td>0.576175</td>\n",
              "      <td>0.718127</td>\n",
              "      <td>0.542092</td>\n",
              "    </tr>\n",
              "  </tbody>\n",
              "</table>\n",
              "</div>"
            ],
            "text/plain": [
              "          A         B         C  ...         F         G         H\n",
              "0  0.343390  0.518813  0.512824  ...  0.681530  0.667040  0.679557\n",
              "1  0.405961  0.550234  0.468603  ...  0.676215  0.723106  0.734341\n",
              "2  0.227852  0.337555  0.290688  ...  0.576175  0.718127  0.542092\n",
              "\n",
              "[3 rows x 8 columns]"
            ]
          },
          "metadata": {
            "tags": []
          },
          "execution_count": 20
        }
      ]
    },
    {
      "cell_type": "code",
      "metadata": {
        "id": "P8JQiaCbBGkC"
      },
      "source": [
        "# reshape the d dataframe suitable for statsmodels package \n",
        "df_melt = pd.melt(df.reset_index(), id_vars=['index'], value_vars=['A', 'B', 'C', 'D','E','F','G','H'])\n",
        "# replace column names\n",
        "df_melt.columns = ['index', 'treatments', 'value']"
      ],
      "execution_count": null,
      "outputs": []
    },
    {
      "cell_type": "code",
      "metadata": {
        "colab": {
          "base_uri": "https://localhost:8080/",
          "height": 279
        },
        "id": "_69BXe2gBUKQ",
        "outputId": "483f1d5d-bdad-4664-b976-89761a71cd94"
      },
      "source": [
        "import matplotlib.pyplot as plt\n",
        "import seaborn as sns\n",
        "ax = sns.boxplot(x='treatments', y='value', data=df_melt, color='#99c2a2')\n",
        "ax = sns.swarmplot(x=\"treatments\", y=\"value\", data=df_melt, color='#7d0013')\n",
        "plt.show()"
      ],
      "execution_count": null,
      "outputs": [
        {
          "output_type": "display_data",
          "data": {
            "image/png": "[encoded data removed]",
            "text/plain": [
              "<Figure size 432x288 with 1 Axes>"
            ]
          },
          "metadata": {
            "tags": [],
            "needs_background": "light"
          }
        }
      ]
    },
    {
      "cell_type": "code",
      "metadata": {
        "colab": {
          "base_uri": "https://localhost:8080/"
        },
        "id": "ldS82KvjBfq_",
        "outputId": "e5f0ddd8-181e-4cbe-890c-1a55c1a8c150"
      },
      "source": [
        "import scipy.stats as stats\n",
        "# stats f_oneway functions takes the groups as input and returns ANOVA F and p value\n",
        "fvalue, pvalue = stats.f_oneway(df['A'], df['B'], df['C'], df['D'],df['E'],df['F'],df['G'],df['H'])\n",
        "print(fvalue, pvalue)"
      ],
      "execution_count": null,
      "outputs": [
        {
          "output_type": "stream",
          "text": [
            "6.95016752439643 0.0006727464155025148\n"
          ],
          "name": "stdout"
        }
      ]
    },
    {
      "cell_type": "code",
      "metadata": {
        "id": "nHybr6qGBrB2"
      },
      "source": [
        "# get ANOVA table as R like output\n",
        "import statsmodels.api as sm\n",
        "from statsmodels.formula.api import ols"
      ],
      "execution_count": null,
      "outputs": []
    },
    {
      "cell_type": "code",
      "metadata": {
        "colab": {
          "base_uri": "https://localhost:8080/",
          "height": 111
        },
        "id": "BmvU3O3wBx7-",
        "outputId": "2e7da987-c691-4368-902f-d80c46da28d7"
      },
      "source": [
        "# Ordinary Least Squares (OLS) model\n",
        "model = ols('value ~ C(treatments)', data=df_melt).fit()\n",
        "anova_table = sm.stats.anova_lm(model, typ=2)\n",
        "anova_table"
      ],
      "execution_count": null,
      "outputs": [
        {
          "output_type": "execute_result",
          "data": {
            "text/html": [
              "<div>\n",
              "<style scoped>\n",
              "    .dataframe tbody tr th:only-of-type {\n",
              "        vertical-align: middle;\n",
              "    }\n",
              "\n",
              "    .dataframe tbody tr th {\n",
              "        vertical-align: top;\n",
              "    }\n",
              "\n",
              "    .dataframe thead th {\n",
              "        text-align: right;\n",
              "    }\n",
              "</style>\n",
              "<table border=\"1\" class=\"dataframe\">\n",
              "  <thead>\n",
              "    <tr style=\"text-align: right;\">\n",
              "      <th></th>\n",
              "      <th>sum_sq</th>\n",
              "      <th>df</th>\n",
              "      <th>F</th>\n",
              "      <th>PR(&gt;F)</th>\n",
              "    </tr>\n",
              "  </thead>\n",
              "  <tbody>\n",
              "    <tr>\n",
              "      <th>C(treatments)</th>\n",
              "      <td>0.344628</td>\n",
              "      <td>7.0</td>\n",
              "      <td>6.950168</td>\n",
              "      <td>0.000673</td>\n",
              "    </tr>\n",
              "    <tr>\n",
              "      <th>Residual</th>\n",
              "      <td>0.113339</td>\n",
              "      <td>16.0</td>\n",
              "      <td>NaN</td>\n",
              "      <td>NaN</td>\n",
              "    </tr>\n",
              "  </tbody>\n",
              "</table>\n",
              "</div>"
            ],
            "text/plain": [
              "                 sum_sq    df         F    PR(>F)\n",
              "C(treatments)  0.344628   7.0  6.950168  0.000673\n",
              "Residual       0.113339  16.0       NaN       NaN"
            ]
          },
          "metadata": {
            "tags": []
          },
          "execution_count": 27
        }
      ]
    },
    {
      "cell_type": "code",
      "metadata": {
        "colab": {
          "base_uri": "https://localhost:8080/",
          "height": 111
        },
        "id": "9vPl3Eg7DhqW",
        "outputId": "6d6bd0ed-e172-4c68-e3a0-8aa2aff08d19"
      },
      "source": [
        "from bioinfokit.analys import stat\n",
        "res = stat()\n",
        "res.anova_stat(df=df_melt, res_var='value', anova_model='value ~ C(treatments)')\n",
        "res.anova_summary"
      ],
      "execution_count": null,
      "outputs": [
        {
          "output_type": "execute_result",
          "data": {
            "text/html": [
              "<div>\n",
              "<style scoped>\n",
              "    .dataframe tbody tr th:only-of-type {\n",
              "        vertical-align: middle;\n",
              "    }\n",
              "\n",
              "    .dataframe tbody tr th {\n",
              "        vertical-align: top;\n",
              "    }\n",
              "\n",
              "    .dataframe thead th {\n",
              "        text-align: right;\n",
              "    }\n",
              "</style>\n",
              "<table border=\"1\" class=\"dataframe\">\n",
              "  <thead>\n",
              "    <tr style=\"text-align: right;\">\n",
              "      <th></th>\n",
              "      <th>df</th>\n",
              "      <th>sum_sq</th>\n",
              "      <th>mean_sq</th>\n",
              "      <th>F</th>\n",
              "      <th>PR(&gt;F)</th>\n",
              "    </tr>\n",
              "  </thead>\n",
              "  <tbody>\n",
              "    <tr>\n",
              "      <th>C(treatments)</th>\n",
              "      <td>7.0</td>\n",
              "      <td>0.344628</td>\n",
              "      <td>0.049233</td>\n",
              "      <td>6.950168</td>\n",
              "      <td>0.000673</td>\n",
              "    </tr>\n",
              "    <tr>\n",
              "      <th>Residual</th>\n",
              "      <td>16.0</td>\n",
              "      <td>0.113339</td>\n",
              "      <td>0.007084</td>\n",
              "      <td>NaN</td>\n",
              "      <td>NaN</td>\n",
              "    </tr>\n",
              "  </tbody>\n",
              "</table>\n",
              "</div>"
            ],
            "text/plain": [
              "                 df    sum_sq   mean_sq         F    PR(>F)\n",
              "C(treatments)   7.0  0.344628  0.049233  6.950168  0.000673\n",
              "Residual       16.0  0.113339  0.007084       NaN       NaN"
            ]
          },
          "metadata": {
            "tags": []
          },
          "execution_count": 28
        }
      ]
    },
    {
      "cell_type": "code",
      "metadata": {
        "id": "CB9LOg00Dnae"
      },
      "source": [
        "#The p value obtained from ANOVA analysis is significant (p < 0.05), and therefore, we conclude that there are significant differences among treatments.\n"
      ],
      "execution_count": null,
      "outputs": []
    },
    {
      "cell_type": "code",
      "metadata": {
        "id": "OIG9wH6KEgjF"
      },
      "source": [
        "#To know the pairs of significant different treatments, we will perform multiple pairwise comparison (post hoc comparison) analysis for all unplanned comparison using Tukey’s honestly significantly differenced (HSD) test."
      ],
      "execution_count": null,
      "outputs": []
    },
    {
      "cell_type": "code",
      "metadata": {
        "colab": {
          "base_uri": "https://localhost:8080/",
          "height": 917
        },
        "id": "KyLMOxB7EuQy",
        "outputId": "7d8568a7-71e5-4659-e873-9b1f1fb5638e"
      },
      "source": [
        "from bioinfokit.analys import stat\n",
        "# perform multiple pairwise comparison (Tukey's HSD)\n",
        "# unequal sample size data, tukey_hsd uses Tukey-Kramer test\n",
        "res = stat()\n",
        "res.tukey_hsd(df=df_melt, res_var='value', xfac_var='treatments', anova_model='value ~ C(treatments)')\n",
        "res.tukey_summary"
      ],
      "execution_count": null,
      "outputs": [
        {
          "output_type": "execute_result",
          "data": {
            "text/html": [
              "<div>\n",
              "<style scoped>\n",
              "    .dataframe tbody tr th:only-of-type {\n",
              "        vertical-align: middle;\n",
              "    }\n",
              "\n",
              "    .dataframe tbody tr th {\n",
              "        vertical-align: top;\n",
              "    }\n",
              "\n",
              "    .dataframe thead th {\n",
              "        text-align: right;\n",
              "    }\n",
              "</style>\n",
              "<table border=\"1\" class=\"dataframe\">\n",
              "  <thead>\n",
              "    <tr style=\"text-align: right;\">\n",
              "      <th></th>\n",
              "      <th>group1</th>\n",
              "      <th>group2</th>\n",
              "      <th>Diff</th>\n",
              "      <th>Lower</th>\n",
              "      <th>Upper</th>\n",
              "      <th>q-value</th>\n",
              "      <th>p-value</th>\n",
              "    </tr>\n",
              "  </thead>\n",
              "  <tbody>\n",
              "    <tr>\n",
              "      <th>0</th>\n",
              "      <td>A</td>\n",
              "      <td>B</td>\n",
              "      <td>0.143133</td>\n",
              "      <td>-0.094802</td>\n",
              "      <td>0.381067</td>\n",
              "      <td>2.945581</td>\n",
              "      <td>0.465372</td>\n",
              "    </tr>\n",
              "    <tr>\n",
              "      <th>1</th>\n",
              "      <td>A</td>\n",
              "      <td>C</td>\n",
              "      <td>0.098304</td>\n",
              "      <td>-0.139631</td>\n",
              "      <td>0.336238</td>\n",
              "      <td>2.023033</td>\n",
              "      <td>0.810998</td>\n",
              "    </tr>\n",
              "    <tr>\n",
              "      <th>2</th>\n",
              "      <td>A</td>\n",
              "      <td>D</td>\n",
              "      <td>0.193465</td>\n",
              "      <td>-0.044470</td>\n",
              "      <td>0.431399</td>\n",
              "      <td>3.981377</td>\n",
              "      <td>0.158806</td>\n",
              "    </tr>\n",
              "    <tr>\n",
              "      <th>3</th>\n",
              "      <td>A</td>\n",
              "      <td>E</td>\n",
              "      <td>0.226830</td>\n",
              "      <td>-0.011105</td>\n",
              "      <td>0.464764</td>\n",
              "      <td>4.668008</td>\n",
              "      <td>0.067579</td>\n",
              "    </tr>\n",
              "    <tr>\n",
              "      <th>4</th>\n",
              "      <td>A</td>\n",
              "      <td>F</td>\n",
              "      <td>0.318905</td>\n",
              "      <td>0.080971</td>\n",
              "      <td>0.556840</td>\n",
              "      <td>6.562869</td>\n",
              "      <td>0.005135</td>\n",
              "    </tr>\n",
              "    <tr>\n",
              "      <th>5</th>\n",
              "      <td>A</td>\n",
              "      <td>G</td>\n",
              "      <td>0.377023</td>\n",
              "      <td>0.139089</td>\n",
              "      <td>0.614958</td>\n",
              "      <td>7.758898</td>\n",
              "      <td>0.001009</td>\n",
              "    </tr>\n",
              "    <tr>\n",
              "      <th>6</th>\n",
              "      <td>A</td>\n",
              "      <td>H</td>\n",
              "      <td>0.326262</td>\n",
              "      <td>0.088328</td>\n",
              "      <td>0.564197</td>\n",
              "      <td>6.714273</td>\n",
              "      <td>0.004172</td>\n",
              "    </tr>\n",
              "    <tr>\n",
              "      <th>7</th>\n",
              "      <td>B</td>\n",
              "      <td>C</td>\n",
              "      <td>0.044829</td>\n",
              "      <td>-0.193106</td>\n",
              "      <td>0.282763</td>\n",
              "      <td>0.922548</td>\n",
              "      <td>0.900000</td>\n",
              "    </tr>\n",
              "    <tr>\n",
              "      <th>8</th>\n",
              "      <td>B</td>\n",
              "      <td>D</td>\n",
              "      <td>0.050332</td>\n",
              "      <td>-0.187603</td>\n",
              "      <td>0.288266</td>\n",
              "      <td>1.035797</td>\n",
              "      <td>0.900000</td>\n",
              "    </tr>\n",
              "    <tr>\n",
              "      <th>9</th>\n",
              "      <td>B</td>\n",
              "      <td>E</td>\n",
              "      <td>0.083697</td>\n",
              "      <td>-0.154238</td>\n",
              "      <td>0.321631</td>\n",
              "      <td>1.722427</td>\n",
              "      <td>0.900000</td>\n",
              "    </tr>\n",
              "    <tr>\n",
              "      <th>10</th>\n",
              "      <td>B</td>\n",
              "      <td>F</td>\n",
              "      <td>0.175773</td>\n",
              "      <td>-0.062162</td>\n",
              "      <td>0.413707</td>\n",
              "      <td>3.617288</td>\n",
              "      <td>0.240123</td>\n",
              "    </tr>\n",
              "    <tr>\n",
              "      <th>11</th>\n",
              "      <td>B</td>\n",
              "      <td>G</td>\n",
              "      <td>0.233890</td>\n",
              "      <td>-0.004044</td>\n",
              "      <td>0.471825</td>\n",
              "      <td>4.813317</td>\n",
              "      <td>0.055835</td>\n",
              "    </tr>\n",
              "    <tr>\n",
              "      <th>12</th>\n",
              "      <td>B</td>\n",
              "      <td>H</td>\n",
              "      <td>0.183130</td>\n",
              "      <td>-0.054805</td>\n",
              "      <td>0.421064</td>\n",
              "      <td>3.768692</td>\n",
              "      <td>0.203029</td>\n",
              "    </tr>\n",
              "    <tr>\n",
              "      <th>13</th>\n",
              "      <td>C</td>\n",
              "      <td>D</td>\n",
              "      <td>0.095161</td>\n",
              "      <td>-0.142774</td>\n",
              "      <td>0.333095</td>\n",
              "      <td>1.958344</td>\n",
              "      <td>0.835207</td>\n",
              "    </tr>\n",
              "    <tr>\n",
              "      <th>14</th>\n",
              "      <td>C</td>\n",
              "      <td>E</td>\n",
              "      <td>0.128526</td>\n",
              "      <td>-0.109409</td>\n",
              "      <td>0.366460</td>\n",
              "      <td>2.644975</td>\n",
              "      <td>0.578222</td>\n",
              "    </tr>\n",
              "    <tr>\n",
              "      <th>15</th>\n",
              "      <td>C</td>\n",
              "      <td>F</td>\n",
              "      <td>0.220601</td>\n",
              "      <td>-0.017333</td>\n",
              "      <td>0.458536</td>\n",
              "      <td>4.539836</td>\n",
              "      <td>0.079763</td>\n",
              "    </tr>\n",
              "    <tr>\n",
              "      <th>16</th>\n",
              "      <td>C</td>\n",
              "      <td>G</td>\n",
              "      <td>0.278719</td>\n",
              "      <td>0.040785</td>\n",
              "      <td>0.516654</td>\n",
              "      <td>5.735865</td>\n",
              "      <td>0.016052</td>\n",
              "    </tr>\n",
              "    <tr>\n",
              "      <th>17</th>\n",
              "      <td>C</td>\n",
              "      <td>H</td>\n",
              "      <td>0.227958</td>\n",
              "      <td>-0.009976</td>\n",
              "      <td>0.465893</td>\n",
              "      <td>4.691240</td>\n",
              "      <td>0.065558</td>\n",
              "    </tr>\n",
              "    <tr>\n",
              "      <th>18</th>\n",
              "      <td>D</td>\n",
              "      <td>E</td>\n",
              "      <td>0.033365</td>\n",
              "      <td>-0.204570</td>\n",
              "      <td>0.271300</td>\n",
              "      <td>0.686630</td>\n",
              "      <td>0.900000</td>\n",
              "    </tr>\n",
              "    <tr>\n",
              "      <th>19</th>\n",
              "      <td>D</td>\n",
              "      <td>F</td>\n",
              "      <td>0.125441</td>\n",
              "      <td>-0.112494</td>\n",
              "      <td>0.363375</td>\n",
              "      <td>2.581491</td>\n",
              "      <td>0.601984</td>\n",
              "    </tr>\n",
              "    <tr>\n",
              "      <th>20</th>\n",
              "      <td>D</td>\n",
              "      <td>G</td>\n",
              "      <td>0.183559</td>\n",
              "      <td>-0.054376</td>\n",
              "      <td>0.421493</td>\n",
              "      <td>3.777520</td>\n",
              "      <td>0.200994</td>\n",
              "    </tr>\n",
              "    <tr>\n",
              "      <th>21</th>\n",
              "      <td>D</td>\n",
              "      <td>H</td>\n",
              "      <td>0.132798</td>\n",
              "      <td>-0.105137</td>\n",
              "      <td>0.370732</td>\n",
              "      <td>2.732895</td>\n",
              "      <td>0.545317</td>\n",
              "    </tr>\n",
              "    <tr>\n",
              "      <th>22</th>\n",
              "      <td>E</td>\n",
              "      <td>F</td>\n",
              "      <td>0.092076</td>\n",
              "      <td>-0.145859</td>\n",
              "      <td>0.330010</td>\n",
              "      <td>1.894861</td>\n",
              "      <td>0.858966</td>\n",
              "    </tr>\n",
              "    <tr>\n",
              "      <th>23</th>\n",
              "      <td>E</td>\n",
              "      <td>G</td>\n",
              "      <td>0.150194</td>\n",
              "      <td>-0.087741</td>\n",
              "      <td>0.388128</td>\n",
              "      <td>3.090890</td>\n",
              "      <td>0.409941</td>\n",
              "    </tr>\n",
              "    <tr>\n",
              "      <th>24</th>\n",
              "      <td>E</td>\n",
              "      <td>H</td>\n",
              "      <td>0.099433</td>\n",
              "      <td>-0.138502</td>\n",
              "      <td>0.337367</td>\n",
              "      <td>2.046265</td>\n",
              "      <td>0.802300</td>\n",
              "    </tr>\n",
              "    <tr>\n",
              "      <th>25</th>\n",
              "      <td>F</td>\n",
              "      <td>G</td>\n",
              "      <td>0.058118</td>\n",
              "      <td>-0.179817</td>\n",
              "      <td>0.296052</td>\n",
              "      <td>1.196029</td>\n",
              "      <td>0.900000</td>\n",
              "    </tr>\n",
              "    <tr>\n",
              "      <th>26</th>\n",
              "      <td>F</td>\n",
              "      <td>H</td>\n",
              "      <td>0.007357</td>\n",
              "      <td>-0.230577</td>\n",
              "      <td>0.245292</td>\n",
              "      <td>0.151404</td>\n",
              "      <td>0.900000</td>\n",
              "    </tr>\n",
              "    <tr>\n",
              "      <th>27</th>\n",
              "      <td>G</td>\n",
              "      <td>H</td>\n",
              "      <td>0.050761</td>\n",
              "      <td>-0.187174</td>\n",
              "      <td>0.288695</td>\n",
              "      <td>1.044625</td>\n",
              "      <td>0.900000</td>\n",
              "    </tr>\n",
              "  </tbody>\n",
              "</table>\n",
              "</div>"
            ],
            "text/plain": [
              "   group1 group2      Diff     Lower     Upper   q-value   p-value\n",
              "0       A      B  0.143133 -0.094802  0.381067  2.945581  0.465372\n",
              "1       A      C  0.098304 -0.139631  0.336238  2.023033  0.810998\n",
              "2       A      D  0.193465 -0.044470  0.431399  3.981377  0.158806\n",
              "3       A      E  0.226830 -0.011105  0.464764  4.668008  0.067579\n",
              "4       A      F  0.318905  0.080971  0.556840  6.562869  0.005135\n",
              "5       A      G  0.377023  0.139089  0.614958  7.758898  0.001009\n",
              "6       A      H  0.326262  0.088328  0.564197  6.714273  0.004172\n",
              "7       B      C  0.044829 -0.193106  0.282763  0.922548  0.900000\n",
              "8       B      D  0.050332 -0.187603  0.288266  1.035797  0.900000\n",
              "9       B      E  0.083697 -0.154238  0.321631  1.722427  0.900000\n",
              "10      B      F  0.175773 -0.062162  0.413707  3.617288  0.240123\n",
              "11      B      G  0.233890 -0.004044  0.471825  4.813317  0.055835\n",
              "12      B      H  0.183130 -0.054805  0.421064  3.768692  0.203029\n",
              "13      C      D  0.095161 -0.142774  0.333095  1.958344  0.835207\n",
              "14      C      E  0.128526 -0.109409  0.366460  2.644975  0.578222\n",
              "15      C      F  0.220601 -0.017333  0.458536  4.539836  0.079763\n",
              "16      C      G  0.278719  0.040785  0.516654  5.735865  0.016052\n",
              "17      C      H  0.227958 -0.009976  0.465893  4.691240  0.065558\n",
              "18      D      E  0.033365 -0.204570  0.271300  0.686630  0.900000\n",
              "19      D      F  0.125441 -0.112494  0.363375  2.581491  0.601984\n",
              "20      D      G  0.183559 -0.054376  0.421493  3.777520  0.200994\n",
              "21      D      H  0.132798 -0.105137  0.370732  2.732895  0.545317\n",
              "22      E      F  0.092076 -0.145859  0.330010  1.894861  0.858966\n",
              "23      E      G  0.150194 -0.087741  0.388128  3.090890  0.409941\n",
              "24      E      H  0.099433 -0.138502  0.337367  2.046265  0.802300\n",
              "25      F      G  0.058118 -0.179817  0.296052  1.196029  0.900000\n",
              "26      F      H  0.007357 -0.230577  0.245292  0.151404  0.900000\n",
              "27      G      H  0.050761 -0.187174  0.288695  1.044625  0.900000"
            ]
          },
          "metadata": {
            "tags": []
          },
          "execution_count": 30
        }
      ]
    },
    {
      "cell_type": "code",
      "metadata": {
        "colab": {
          "base_uri": "https://localhost:8080/",
          "height": 279
        },
        "id": "g9Uixt0cE0Xu",
        "outputId": "5eea1fca-0211-4fcf-abfc-9fcdab1707b6"
      },
      "source": [
        "# QQ-plot\n",
        "import statsmodels.api as sm\n",
        "import matplotlib.pyplot as plt\n",
        "# res.anova_std_residuals are standardized residuals obtained from ANOVA (check above)\n",
        "sm.qqplot(res.anova_std_residuals, line='45')\n",
        "plt.xlabel(\"Theoretical Quantiles\")\n",
        "plt.ylabel(\"Standardized Residuals\")\n",
        "plt.show()"
      ],
      "execution_count": null,
      "outputs": [
        {
          "output_type": "display_data",
          "data": {
            "image/png": "[encoded data removed]",
            "text/plain": [
              "<Figure size 432x288 with 1 Axes>"
            ]
          },
          "metadata": {
            "tags": [],
            "needs_background": "light"
          }
        }
      ]
    },
    {
      "cell_type": "code",
      "metadata": {
        "colab": {
          "base_uri": "https://localhost:8080/",
          "height": 279
        },
        "id": "HLZ_g7k8FIxm",
        "outputId": "0830354a-04e5-443b-8185-d0712b8c78f4"
      },
      "source": [
        "# histogram\n",
        "plt.hist(res.anova_model_out.resid, bins='auto', histtype='bar', ec='k') \n",
        "plt.xlabel(\"Residuals\")\n",
        "plt.ylabel('Frequency')\n",
        "plt.show()"
      ],
      "execution_count": null,
      "outputs": [
        {
          "output_type": "display_data",
          "data": {
            "image/png": "[encoded data removed]",
            "text/plain": [
              "<Figure size 432x288 with 1 Axes>"
            ]
          },
          "metadata": {
            "tags": [],
            "needs_background": "light"
          }
        }
      ]
    },
    {
      "cell_type": "code",
      "metadata": {
        "colab": {
          "base_uri": "https://localhost:8080/",
          "height": 142
        },
        "id": "eHJh4renJ6pT",
        "outputId": "bf590c69-08e6-4c38-86b7-6fc262762b52"
      },
      "source": [
        "# if you have a stacked table, you can use bioinfokit v1.0.3 or later for the Levene's test\n",
        "from bioinfokit.analys import stat \n",
        "res = stat()\n",
        "res.levene(df=df_melt, res_var='value', xfac_var='treatments')\n",
        "res.levene_summary"
      ],
      "execution_count": null,
      "outputs": [
        {
          "output_type": "execute_result",
          "data": {
            "text/html": [
              "<div>\n",
              "<style scoped>\n",
              "    .dataframe tbody tr th:only-of-type {\n",
              "        vertical-align: middle;\n",
              "    }\n",
              "\n",
              "    .dataframe tbody tr th {\n",
              "        vertical-align: top;\n",
              "    }\n",
              "\n",
              "    .dataframe thead th {\n",
              "        text-align: right;\n",
              "    }\n",
              "</style>\n",
              "<table border=\"1\" class=\"dataframe\">\n",
              "  <thead>\n",
              "    <tr style=\"text-align: right;\">\n",
              "      <th></th>\n",
              "      <th>Parameter</th>\n",
              "      <th>Value</th>\n",
              "    </tr>\n",
              "  </thead>\n",
              "  <tbody>\n",
              "    <tr>\n",
              "      <th>0</th>\n",
              "      <td>Test statistics (W)</td>\n",
              "      <td>0.2926</td>\n",
              "    </tr>\n",
              "    <tr>\n",
              "      <th>1</th>\n",
              "      <td>Degrees of freedom (Df)</td>\n",
              "      <td>7.0000</td>\n",
              "    </tr>\n",
              "    <tr>\n",
              "      <th>2</th>\n",
              "      <td>p value</td>\n",
              "      <td>0.9471</td>\n",
              "    </tr>\n",
              "  </tbody>\n",
              "</table>\n",
              "</div>"
            ],
            "text/plain": [
              "                 Parameter   Value\n",
              "0      Test statistics (W)  0.2926\n",
              "1  Degrees of freedom (Df)  7.0000\n",
              "2                  p value  0.9471"
            ]
          },
          "metadata": {
            "tags": []
          },
          "execution_count": 34
        }
      ]
    },
    {
      "cell_type": "code",
      "metadata": {
        "id": "JS08U53NLY68"
      },
      "source": [
        "import pandas as pd\n",
        "# load data file\n",
        "df = pd.read_csv(\"/content/CASPASE 3.txt\", sep=\"\\t\")\n",
        "# reshape the d dataframe suitable for statsmodels package \n",
        "df_melt = pd.melt(df.reset_index(), id_vars=['index'], value_vars=['A', 'B', 'C', 'D','E','F','G','H'])\n",
        "# replace column names\n",
        "df_melt.columns = ['index', 'treatments', 'value']"
      ],
      "execution_count": null,
      "outputs": []
    },
    {
      "cell_type": "code",
      "metadata": {
        "colab": {
          "base_uri": "https://localhost:8080/",
          "height": 279
        },
        "id": "FTChilbpc4tf",
        "outputId": "a498002e-d872-4344-c058-966c1c378634"
      },
      "source": [
        "import matplotlib.pyplot as plt\n",
        "import seaborn as sns\n",
        "ax = sns.boxplot(x='treatments', y='value', data=df_melt, color='#99c2a2')\n",
        "ax = sns.swarmplot(x=\"treatments\", y=\"value\", data=df_melt, color='#7d0013')\n",
        "plt.show()"
      ],
      "execution_count": null,
      "outputs": [
        {
          "output_type": "display_data",
          "data": {
            "image/png": "[encoded data removed]",
            "text/plain": [
              "<Figure size 432x288 with 1 Axes>"
            ]
          },
          "metadata": {
            "tags": [],
            "needs_background": "light"
          }
        }
      ]
    },
    {
      "cell_type": "code",
      "metadata": {
        "colab": {
          "base_uri": "https://localhost:8080/"
        },
        "id": "rx1JYHw9fgQs",
        "outputId": "d5ab6ce9-e6cb-4997-c679-4da9b19666cb"
      },
      "source": [
        "import scipy.stats as stats\n",
        "# stats f_oneway functions takes the groups as input and returns ANOVA F and p value\n",
        "fvalue, pvalue = stats.f_oneway(df['A'], df['B'], df['C'], df['D'],df['E'],df['F'],df['G'],df['H'])\n",
        "print(fvalue, pvalue)"
      ],
      "execution_count": null,
      "outputs": [
        {
          "output_type": "stream",
          "text": [
            "20.399419853408123 7.46272669040328e-07\n"
          ],
          "name": "stdout"
        }
      ]
    },
    {
      "cell_type": "code",
      "metadata": {
        "id": "2lAyRVWlfsQM"
      },
      "source": [
        "# get ANOVA table as R like output\n",
        "import statsmodels.api as sm\n",
        "from statsmodels.formula.api import ols"
      ],
      "execution_count": null,
      "outputs": []
    },
    {
      "cell_type": "code",
      "metadata": {
        "colab": {
          "base_uri": "https://localhost:8080/",
          "height": 111
        },
        "id": "P3RdCNj2fvRs",
        "outputId": "56cf156e-6631-4e20-d80f-c9cd53b5605b"
      },
      "source": [
        "# Ordinary Least Squares (OLS) model\n",
        "model = ols('value ~ C(treatments)', data=df_melt).fit()\n",
        "anova_table = sm.stats.anova_lm(model, typ=2)\n",
        "anova_table"
      ],
      "execution_count": null,
      "outputs": [
        {
          "output_type": "execute_result",
          "data": {
            "text/html": [
              "<div>\n",
              "<style scoped>\n",
              "    .dataframe tbody tr th:only-of-type {\n",
              "        vertical-align: middle;\n",
              "    }\n",
              "\n",
              "    .dataframe tbody tr th {\n",
              "        vertical-align: top;\n",
              "    }\n",
              "\n",
              "    .dataframe thead th {\n",
              "        text-align: right;\n",
              "    }\n",
              "</style>\n",
              "<table border=\"1\" class=\"dataframe\">\n",
              "  <thead>\n",
              "    <tr style=\"text-align: right;\">\n",
              "      <th></th>\n",
              "      <th>sum_sq</th>\n",
              "      <th>df</th>\n",
              "      <th>F</th>\n",
              "      <th>PR(&gt;F)</th>\n",
              "    </tr>\n",
              "  </thead>\n",
              "  <tbody>\n",
              "    <tr>\n",
              "      <th>C(treatments)</th>\n",
              "      <td>0.119942</td>\n",
              "      <td>7.0</td>\n",
              "      <td>20.39942</td>\n",
              "      <td>7.462727e-07</td>\n",
              "    </tr>\n",
              "    <tr>\n",
              "      <th>Residual</th>\n",
              "      <td>0.013439</td>\n",
              "      <td>16.0</td>\n",
              "      <td>NaN</td>\n",
              "      <td>NaN</td>\n",
              "    </tr>\n",
              "  </tbody>\n",
              "</table>\n",
              "</div>"
            ],
            "text/plain": [
              "                 sum_sq    df         F        PR(>F)\n",
              "C(treatments)  0.119942   7.0  20.39942  7.462727e-07\n",
              "Residual       0.013439  16.0       NaN           NaN"
            ]
          },
          "metadata": {
            "tags": []
          },
          "execution_count": 40
        }
      ]
    },
    {
      "cell_type": "code",
      "metadata": {
        "colab": {
          "base_uri": "https://localhost:8080/",
          "height": 111
        },
        "id": "-f4k72exf9P9",
        "outputId": "1c4881cd-c1a7-4698-d37f-d0461cac4bd1"
      },
      "source": [
        "from bioinfokit.analys import stat\n",
        "res = stat()\n",
        "res.anova_stat(df=df_melt, res_var='value', anova_model='value ~ C(treatments)')\n",
        "res.anova_summary"
      ],
      "execution_count": null,
      "outputs": [
        {
          "output_type": "execute_result",
          "data": {
            "text/html": [
              "<div>\n",
              "<style scoped>\n",
              "    .dataframe tbody tr th:only-of-type {\n",
              "        vertical-align: middle;\n",
              "    }\n",
              "\n",
              "    .dataframe tbody tr th {\n",
              "        vertical-align: top;\n",
              "    }\n",
              "\n",
              "    .dataframe thead th {\n",
              "        text-align: right;\n",
              "    }\n",
              "</style>\n",
              "<table border=\"1\" class=\"dataframe\">\n",
              "  <thead>\n",
              "    <tr style=\"text-align: right;\">\n",
              "      <th></th>\n",
              "      <th>df</th>\n",
              "      <th>sum_sq</th>\n",
              "      <th>mean_sq</th>\n",
              "      <th>F</th>\n",
              "      <th>PR(&gt;F)</th>\n",
              "    </tr>\n",
              "  </thead>\n",
              "  <tbody>\n",
              "    <tr>\n",
              "      <th>C(treatments)</th>\n",
              "      <td>7.0</td>\n",
              "      <td>0.119942</td>\n",
              "      <td>0.017135</td>\n",
              "      <td>20.39942</td>\n",
              "      <td>7.462727e-07</td>\n",
              "    </tr>\n",
              "    <tr>\n",
              "      <th>Residual</th>\n",
              "      <td>16.0</td>\n",
              "      <td>0.013439</td>\n",
              "      <td>0.000840</td>\n",
              "      <td>NaN</td>\n",
              "      <td>NaN</td>\n",
              "    </tr>\n",
              "  </tbody>\n",
              "</table>\n",
              "</div>"
            ],
            "text/plain": [
              "                 df    sum_sq   mean_sq         F        PR(>F)\n",
              "C(treatments)   7.0  0.119942  0.017135  20.39942  7.462727e-07\n",
              "Residual       16.0  0.013439  0.000840       NaN           NaN"
            ]
          },
          "metadata": {
            "tags": []
          },
          "execution_count": 41
        }
      ]
    },
    {
      "cell_type": "code",
      "metadata": {
        "colab": {
          "base_uri": "https://localhost:8080/",
          "height": 917
        },
        "id": "KJJCR-A0gAl9",
        "outputId": "d4b20969-19f3-40e7-a4d8-c58355247c2d"
      },
      "source": [
        "#p value obtained from ANOVA analysis is significant (p < 0.05), and therefore, we conclude that there are significant differences among treatments.\n",
        "\n",
        "# we will use bioinfokit (v1.0.3 or later) for performing tukey HSD test\n",
        "# check documentation here https://github.com/reneshbedre/bioinfokit\n",
        "from bioinfokit.analys import stat\n",
        "# perform multiple pairwise comparison (Tukey's HSD)\n",
        "# unequal sample size data, tukey_hsd uses Tukey-Kramer test\n",
        "res = stat()\n",
        "res.tukey_hsd(df=df_melt, res_var='value', xfac_var='treatments', anova_model='value ~ C(treatments)')\n",
        "res.tukey_summary\n",
        "\n"
      ],
      "execution_count": null,
      "outputs": [
        {
          "output_type": "execute_result",
          "data": {
            "text/html": [
              "<div>\n",
              "<style scoped>\n",
              "    .dataframe tbody tr th:only-of-type {\n",
              "        vertical-align: middle;\n",
              "    }\n",
              "\n",
              "    .dataframe tbody tr th {\n",
              "        vertical-align: top;\n",
              "    }\n",
              "\n",
              "    .dataframe thead th {\n",
              "        text-align: right;\n",
              "    }\n",
              "</style>\n",
              "<table border=\"1\" class=\"dataframe\">\n",
              "  <thead>\n",
              "    <tr style=\"text-align: right;\">\n",
              "      <th></th>\n",
              "      <th>group1</th>\n",
              "      <th>group2</th>\n",
              "      <th>Diff</th>\n",
              "      <th>Lower</th>\n",
              "      <th>Upper</th>\n",
              "      <th>q-value</th>\n",
              "      <th>p-value</th>\n",
              "    </tr>\n",
              "  </thead>\n",
              "  <tbody>\n",
              "    <tr>\n",
              "      <th>0</th>\n",
              "      <td>A</td>\n",
              "      <td>B</td>\n",
              "      <td>0.137271</td>\n",
              "      <td>0.055339</td>\n",
              "      <td>0.219204</td>\n",
              "      <td>8.203761</td>\n",
              "      <td>0.001000</td>\n",
              "    </tr>\n",
              "    <tr>\n",
              "      <th>1</th>\n",
              "      <td>A</td>\n",
              "      <td>C</td>\n",
              "      <td>0.116694</td>\n",
              "      <td>0.034761</td>\n",
              "      <td>0.198627</td>\n",
              "      <td>6.973990</td>\n",
              "      <td>0.002923</td>\n",
              "    </tr>\n",
              "    <tr>\n",
              "      <th>2</th>\n",
              "      <td>A</td>\n",
              "      <td>D</td>\n",
              "      <td>0.007064</td>\n",
              "      <td>-0.074869</td>\n",
              "      <td>0.088996</td>\n",
              "      <td>0.422150</td>\n",
              "      <td>0.900000</td>\n",
              "    </tr>\n",
              "    <tr>\n",
              "      <th>3</th>\n",
              "      <td>A</td>\n",
              "      <td>E</td>\n",
              "      <td>0.099285</td>\n",
              "      <td>0.017352</td>\n",
              "      <td>0.181218</td>\n",
              "      <td>5.933578</td>\n",
              "      <td>0.012230</td>\n",
              "    </tr>\n",
              "    <tr>\n",
              "      <th>4</th>\n",
              "      <td>A</td>\n",
              "      <td>F</td>\n",
              "      <td>0.124725</td>\n",
              "      <td>0.042792</td>\n",
              "      <td>0.206658</td>\n",
              "      <td>7.453949</td>\n",
              "      <td>0.001521</td>\n",
              "    </tr>\n",
              "    <tr>\n",
              "      <th>5</th>\n",
              "      <td>A</td>\n",
              "      <td>G</td>\n",
              "      <td>0.176922</td>\n",
              "      <td>0.094989</td>\n",
              "      <td>0.258854</td>\n",
              "      <td>10.573382</td>\n",
              "      <td>0.001000</td>\n",
              "    </tr>\n",
              "    <tr>\n",
              "      <th>6</th>\n",
              "      <td>A</td>\n",
              "      <td>H</td>\n",
              "      <td>0.203183</td>\n",
              "      <td>0.121251</td>\n",
              "      <td>0.285116</td>\n",
              "      <td>12.142841</td>\n",
              "      <td>0.001000</td>\n",
              "    </tr>\n",
              "    <tr>\n",
              "      <th>7</th>\n",
              "      <td>B</td>\n",
              "      <td>C</td>\n",
              "      <td>0.020577</td>\n",
              "      <td>-0.061355</td>\n",
              "      <td>0.102510</td>\n",
              "      <td>1.229771</td>\n",
              "      <td>0.900000</td>\n",
              "    </tr>\n",
              "    <tr>\n",
              "      <th>8</th>\n",
              "      <td>B</td>\n",
              "      <td>D</td>\n",
              "      <td>0.144335</td>\n",
              "      <td>0.062403</td>\n",
              "      <td>0.226268</td>\n",
              "      <td>8.625911</td>\n",
              "      <td>0.001000</td>\n",
              "    </tr>\n",
              "    <tr>\n",
              "      <th>9</th>\n",
              "      <td>B</td>\n",
              "      <td>E</td>\n",
              "      <td>0.037986</td>\n",
              "      <td>-0.043946</td>\n",
              "      <td>0.119919</td>\n",
              "      <td>2.270183</td>\n",
              "      <td>0.718495</td>\n",
              "    </tr>\n",
              "    <tr>\n",
              "      <th>10</th>\n",
              "      <td>B</td>\n",
              "      <td>F</td>\n",
              "      <td>0.012546</td>\n",
              "      <td>-0.069386</td>\n",
              "      <td>0.094479</td>\n",
              "      <td>0.749812</td>\n",
              "      <td>0.900000</td>\n",
              "    </tr>\n",
              "    <tr>\n",
              "      <th>11</th>\n",
              "      <td>B</td>\n",
              "      <td>G</td>\n",
              "      <td>0.039650</td>\n",
              "      <td>-0.042282</td>\n",
              "      <td>0.121583</td>\n",
              "      <td>2.369621</td>\n",
              "      <td>0.681279</td>\n",
              "    </tr>\n",
              "    <tr>\n",
              "      <th>12</th>\n",
              "      <td>B</td>\n",
              "      <td>H</td>\n",
              "      <td>0.065912</td>\n",
              "      <td>-0.016021</td>\n",
              "      <td>0.147844</td>\n",
              "      <td>3.939081</td>\n",
              "      <td>0.166977</td>\n",
              "    </tr>\n",
              "    <tr>\n",
              "      <th>13</th>\n",
              "      <td>C</td>\n",
              "      <td>D</td>\n",
              "      <td>0.123758</td>\n",
              "      <td>0.041825</td>\n",
              "      <td>0.205690</td>\n",
              "      <td>7.396139</td>\n",
              "      <td>0.001646</td>\n",
              "    </tr>\n",
              "    <tr>\n",
              "      <th>14</th>\n",
              "      <td>C</td>\n",
              "      <td>E</td>\n",
              "      <td>0.017409</td>\n",
              "      <td>-0.064524</td>\n",
              "      <td>0.099342</td>\n",
              "      <td>1.040412</td>\n",
              "      <td>0.900000</td>\n",
              "    </tr>\n",
              "    <tr>\n",
              "      <th>15</th>\n",
              "      <td>C</td>\n",
              "      <td>F</td>\n",
              "      <td>0.008031</td>\n",
              "      <td>-0.073902</td>\n",
              "      <td>0.089964</td>\n",
              "      <td>0.479959</td>\n",
              "      <td>0.900000</td>\n",
              "    </tr>\n",
              "    <tr>\n",
              "      <th>16</th>\n",
              "      <td>C</td>\n",
              "      <td>G</td>\n",
              "      <td>0.060228</td>\n",
              "      <td>-0.021705</td>\n",
              "      <td>0.142160</td>\n",
              "      <td>3.599392</td>\n",
              "      <td>0.244870</td>\n",
              "    </tr>\n",
              "    <tr>\n",
              "      <th>17</th>\n",
              "      <td>C</td>\n",
              "      <td>H</td>\n",
              "      <td>0.086489</td>\n",
              "      <td>0.004557</td>\n",
              "      <td>0.168422</td>\n",
              "      <td>5.168852</td>\n",
              "      <td>0.034762</td>\n",
              "    </tr>\n",
              "    <tr>\n",
              "      <th>18</th>\n",
              "      <td>D</td>\n",
              "      <td>E</td>\n",
              "      <td>0.106349</td>\n",
              "      <td>0.024416</td>\n",
              "      <td>0.188281</td>\n",
              "      <td>6.355727</td>\n",
              "      <td>0.006832</td>\n",
              "    </tr>\n",
              "    <tr>\n",
              "      <th>19</th>\n",
              "      <td>D</td>\n",
              "      <td>F</td>\n",
              "      <td>0.131789</td>\n",
              "      <td>0.049856</td>\n",
              "      <td>0.213721</td>\n",
              "      <td>7.876098</td>\n",
              "      <td>0.001000</td>\n",
              "    </tr>\n",
              "    <tr>\n",
              "      <th>20</th>\n",
              "      <td>D</td>\n",
              "      <td>G</td>\n",
              "      <td>0.183985</td>\n",
              "      <td>0.102053</td>\n",
              "      <td>0.265918</td>\n",
              "      <td>10.995531</td>\n",
              "      <td>0.001000</td>\n",
              "    </tr>\n",
              "    <tr>\n",
              "      <th>21</th>\n",
              "      <td>D</td>\n",
              "      <td>H</td>\n",
              "      <td>0.210247</td>\n",
              "      <td>0.128314</td>\n",
              "      <td>0.292179</td>\n",
              "      <td>12.564991</td>\n",
              "      <td>0.001000</td>\n",
              "    </tr>\n",
              "    <tr>\n",
              "      <th>22</th>\n",
              "      <td>E</td>\n",
              "      <td>F</td>\n",
              "      <td>0.025440</td>\n",
              "      <td>-0.056493</td>\n",
              "      <td>0.107373</td>\n",
              "      <td>1.520371</td>\n",
              "      <td>0.900000</td>\n",
              "    </tr>\n",
              "    <tr>\n",
              "      <th>23</th>\n",
              "      <td>E</td>\n",
              "      <td>G</td>\n",
              "      <td>0.077637</td>\n",
              "      <td>-0.004296</td>\n",
              "      <td>0.159569</td>\n",
              "      <td>4.639804</td>\n",
              "      <td>0.070105</td>\n",
              "    </tr>\n",
              "    <tr>\n",
              "      <th>24</th>\n",
              "      <td>E</td>\n",
              "      <td>H</td>\n",
              "      <td>0.103898</td>\n",
              "      <td>0.021965</td>\n",
              "      <td>0.185831</td>\n",
              "      <td>6.209264</td>\n",
              "      <td>0.008361</td>\n",
              "    </tr>\n",
              "    <tr>\n",
              "      <th>25</th>\n",
              "      <td>F</td>\n",
              "      <td>G</td>\n",
              "      <td>0.052197</td>\n",
              "      <td>-0.029736</td>\n",
              "      <td>0.134129</td>\n",
              "      <td>3.119433</td>\n",
              "      <td>0.399199</td>\n",
              "    </tr>\n",
              "    <tr>\n",
              "      <th>26</th>\n",
              "      <td>F</td>\n",
              "      <td>H</td>\n",
              "      <td>0.078458</td>\n",
              "      <td>-0.003475</td>\n",
              "      <td>0.160391</td>\n",
              "      <td>4.688893</td>\n",
              "      <td>0.065761</td>\n",
              "    </tr>\n",
              "    <tr>\n",
              "      <th>27</th>\n",
              "      <td>G</td>\n",
              "      <td>H</td>\n",
              "      <td>0.026261</td>\n",
              "      <td>-0.055671</td>\n",
              "      <td>0.108194</td>\n",
              "      <td>1.569460</td>\n",
              "      <td>0.900000</td>\n",
              "    </tr>\n",
              "  </tbody>\n",
              "</table>\n",
              "</div>"
            ],
            "text/plain": [
              "   group1 group2      Diff     Lower     Upper    q-value   p-value\n",
              "0       A      B  0.137271  0.055339  0.219204   8.203761  0.001000\n",
              "1       A      C  0.116694  0.034761  0.198627   6.973990  0.002923\n",
              "2       A      D  0.007064 -0.074869  0.088996   0.422150  0.900000\n",
              "3       A      E  0.099285  0.017352  0.181218   5.933578  0.012230\n",
              "4       A      F  0.124725  0.042792  0.206658   7.453949  0.001521\n",
              "5       A      G  0.176922  0.094989  0.258854  10.573382  0.001000\n",
              "6       A      H  0.203183  0.121251  0.285116  12.142841  0.001000\n",
              "7       B      C  0.020577 -0.061355  0.102510   1.229771  0.900000\n",
              "8       B      D  0.144335  0.062403  0.226268   8.625911  0.001000\n",
              "9       B      E  0.037986 -0.043946  0.119919   2.270183  0.718495\n",
              "10      B      F  0.012546 -0.069386  0.094479   0.749812  0.900000\n",
              "11      B      G  0.039650 -0.042282  0.121583   2.369621  0.681279\n",
              "12      B      H  0.065912 -0.016021  0.147844   3.939081  0.166977\n",
              "13      C      D  0.123758  0.041825  0.205690   7.396139  0.001646\n",
              "14      C      E  0.017409 -0.064524  0.099342   1.040412  0.900000\n",
              "15      C      F  0.008031 -0.073902  0.089964   0.479959  0.900000\n",
              "16      C      G  0.060228 -0.021705  0.142160   3.599392  0.244870\n",
              "17      C      H  0.086489  0.004557  0.168422   5.168852  0.034762\n",
              "18      D      E  0.106349  0.024416  0.188281   6.355727  0.006832\n",
              "19      D      F  0.131789  0.049856  0.213721   7.876098  0.001000\n",
              "20      D      G  0.183985  0.102053  0.265918  10.995531  0.001000\n",
              "21      D      H  0.210247  0.128314  0.292179  12.564991  0.001000\n",
              "22      E      F  0.025440 -0.056493  0.107373   1.520371  0.900000\n",
              "23      E      G  0.077637 -0.004296  0.159569   4.639804  0.070105\n",
              "24      E      H  0.103898  0.021965  0.185831   6.209264  0.008361\n",
              "25      F      G  0.052197 -0.029736  0.134129   3.119433  0.399199\n",
              "26      F      H  0.078458 -0.003475  0.160391   4.688893  0.065761\n",
              "27      G      H  0.026261 -0.055671  0.108194   1.569460  0.900000"
            ]
          },
          "metadata": {
            "tags": []
          },
          "execution_count": 60
        }
      ]
    },
    {
      "cell_type": "code",
      "metadata": {
        "id": "FxPoNmmICZUc"
      },
      "source": [
        "# QQ-plot\n",
        "import statsmodels.api as sm\n",
        "import matplotlib.pyplot as plt"
      ],
      "execution_count": null,
      "outputs": []
    },
    {
      "cell_type": "code",
      "metadata": {
        "colab": {
          "base_uri": "https://localhost:8080/",
          "height": 279
        },
        "id": "3Q3Da_JRCcqm",
        "outputId": "2cb5166d-ea9c-4b6b-e510-930a5d9b1423"
      },
      "source": [
        "# res.anova_std_residuals are standardized residuals obtained from ANOVA (check above)\n",
        "sm.qqplot(res.anova_std_residuals, line='45')\n",
        "plt.xlabel(\"Theoretical Quantiles\")\n",
        "plt.ylabel(\"Standardized Residuals\")\n",
        "plt.show()"
      ],
      "execution_count": null,
      "outputs": [
        {
          "output_type": "display_data",
          "data": {
            "image/png": "[encoded data removed]",
            "text/plain": [
              "<Figure size 432x288 with 1 Axes>"
            ]
          },
          "metadata": {
            "tags": [],
            "needs_background": "light"
          }
        }
      ]
    },
    {
      "cell_type": "code",
      "metadata": {
        "colab": {
          "base_uri": "https://localhost:8080/",
          "height": 279
        },
        "id": "nL1keIymCk6O",
        "outputId": "bca6cc8c-9887-42bc-f86e-45e512d7bb1d"
      },
      "source": [
        "# histogram\n",
        "plt.hist(res.anova_model_out.resid, bins='auto', histtype='bar', ec='k') \n",
        "plt.xlabel(\"Residuals\")\n",
        "plt.ylabel('Frequency')\n",
        "plt.show()"
      ],
      "execution_count": null,
      "outputs": [
        {
          "output_type": "display_data",
          "data": {
            "image/png": "[encoded data removed]",
            "text/plain": [
              "<Figure size 432x288 with 1 Axes>"
            ]
          },
          "metadata": {
            "tags": [],
            "needs_background": "light"
          }
        }
      ]
    },
    {
      "cell_type": "code",
      "metadata": {
        "colab": {
          "base_uri": "https://localhost:8080/"
        },
        "id": "E-NMyeYohjJ9",
        "outputId": "fcca4890-374d-4ea6-924b-967d38b758b7"
      },
      "source": [
        "import scipy.stats as stats\n",
        "w, pvalue = stats.shapiro(model.resid)\n",
        "print(w, pvalue)"
      ],
      "execution_count": null,
      "outputs": [
        {
          "output_type": "stream",
          "text": [
            "0.9813075661659241 0.9186723232269287\n"
          ],
          "name": "stdout"
        }
      ]
    },
    {
      "cell_type": "code",
      "metadata": {
        "id": "bmx7_Lxbhsdk"
      },
      "source": [
        "# distribution looks approximately normal and suggests that residuals are approximately normally distributed"
      ],
      "execution_count": null,
      "outputs": []
    },
    {
      "cell_type": "code",
      "metadata": {
        "id": "_ZspIisviDhE"
      },
      "source": [
        "#Shapiro-Wilk test can be used to check the normal distribution of residuals. "
      ],
      "execution_count": null,
      "outputs": []
    },
    {
      "cell_type": "code",
      "metadata": {
        "colab": {
          "base_uri": "https://localhost:8080/"
        },
        "id": "l2rygnrQiH-W",
        "outputId": "02736108-7b53-4ddb-eb3e-c32bbf064fd0"
      },
      "source": [
        "import scipy.stats as stats\n",
        "w, pvalue = stats.shapiro(model.resid)\n",
        "print(w, pvalue)"
      ],
      "execution_count": null,
      "outputs": [
        {
          "output_type": "stream",
          "text": [
            "0.9813075661659241 0.9186723232269287\n"
          ],
          "name": "stdout"
        }
      ]
    },
    {
      "cell_type": "code",
      "metadata": {
        "id": "v2Kues-PCuxd"
      },
      "source": [
        "#p value is non significant, we fail to reject null hypothesis and conclude that data is drawn from normal distribution."
      ],
      "execution_count": null,
      "outputs": []
    },
    {
      "cell_type": "code",
      "metadata": {
        "colab": {
          "base_uri": "https://localhost:8080/"
        },
        "id": "1Wz73BUIC1uK",
        "outputId": "8f3e2b99-d0c2-4e80-e59c-be8324a7bf29"
      },
      "source": [
        "import scipy.stats as stats\n",
        "w, pvalue = stats.bartlett(df['A'], df['B'], df['C'], df['D'],df['E'],df['F'],df['G'],df['H'])\n",
        "print(w, pvalue)\n",
        "\n",
        "#Bartlett’s test to check the Homogeneity of variances"
      ],
      "execution_count": null,
      "outputs": [
        {
          "output_type": "stream",
          "text": [
            "14.281376834534273 0.04639721448262891\n"
          ],
          "name": "stdout"
        }
      ]
    },
    {
      "cell_type": "code",
      "metadata": {
        "colab": {
          "base_uri": "https://localhost:8080/",
          "height": 142
        },
        "id": "O6XOoxfD4rpE",
        "outputId": "a9739a40-4aec-4229-dc5a-de50565c26ac"
      },
      "source": [
        "from bioinfokit.analys import stat \n",
        "res = stat()\n",
        "res.bartlett(df=df_melt, res_var='value', xfac_var='treatments')\n",
        "res.bartlett_summary"
      ],
      "execution_count": null,
      "outputs": [
        {
          "output_type": "execute_result",
          "data": {
            "text/html": [
              "<div>\n",
              "<style scoped>\n",
              "    .dataframe tbody tr th:only-of-type {\n",
              "        vertical-align: middle;\n",
              "    }\n",
              "\n",
              "    .dataframe tbody tr th {\n",
              "        vertical-align: top;\n",
              "    }\n",
              "\n",
              "    .dataframe thead th {\n",
              "        text-align: right;\n",
              "    }\n",
              "</style>\n",
              "<table border=\"1\" class=\"dataframe\">\n",
              "  <thead>\n",
              "    <tr style=\"text-align: right;\">\n",
              "      <th></th>\n",
              "      <th>Parameter</th>\n",
              "      <th>Value</th>\n",
              "    </tr>\n",
              "  </thead>\n",
              "  <tbody>\n",
              "    <tr>\n",
              "      <th>0</th>\n",
              "      <td>Test statistics (T)</td>\n",
              "      <td>14.2814</td>\n",
              "    </tr>\n",
              "    <tr>\n",
              "      <th>1</th>\n",
              "      <td>Degrees of freedom (Df)</td>\n",
              "      <td>7.0000</td>\n",
              "    </tr>\n",
              "    <tr>\n",
              "      <th>2</th>\n",
              "      <td>p value</td>\n",
              "      <td>0.0464</td>\n",
              "    </tr>\n",
              "  </tbody>\n",
              "</table>\n",
              "</div>"
            ],
            "text/plain": [
              "                 Parameter    Value\n",
              "0      Test statistics (T)  14.2814\n",
              "1  Degrees of freedom (Df)   7.0000\n",
              "2                  p value   0.0464"
            ]
          },
          "metadata": {
            "tags": []
          },
          "execution_count": 70
        }
      ]
    },
    {
      "cell_type": "code",
      "metadata": {
        "id": "SthPbtbt4zD8"
      },
      "source": [
        "#As the p value (0.0464) is significant, we do not reject null hypothesis and have to conclude that treatments have unequal variances.\n"
      ],
      "execution_count": null,
      "outputs": []
    },
    {
      "cell_type": "code",
      "metadata": {
        "id": "OfK9Qfy85HbE"
      },
      "source": [
        "import pandas as pd\n",
        "# load data file\n",
        "df = pd.read_csv(\"/content/new ERBETA.txt\", sep=\"\\t\")\n",
        "# reshape the d dataframe suitable for statsmodels package \n",
        "df_melt = pd.melt(df.reset_index(), id_vars=['index'], value_vars=['A', 'B', 'C', 'D'])\n",
        "# replace column names\n",
        "df_melt.columns = ['index', 'treatments', 'value']"
      ],
      "execution_count": null,
      "outputs": []
    },
    {
      "cell_type": "code",
      "metadata": {
        "id": "pE-CXFjZDXSp"
      },
      "source": [
        "import matplotlib.pyplot as plt\n",
        "import seaborn as sns"
      ],
      "execution_count": null,
      "outputs": []
    },
    {
      "cell_type": "code",
      "metadata": {
        "colab": {
          "base_uri": "https://localhost:8080/",
          "height": 279
        },
        "id": "ZlwKjvEoDctN",
        "outputId": "87ab1ddb-17e0-4a1b-86b3-4edf9af268cd"
      },
      "source": [
        "ax = sns.boxplot(x='treatments', y='value', data=df_melt, color='#99c2a2')\n",
        "ax = sns.swarmplot(x=\"treatments\", y=\"value\", data=df_melt, color='#7d0013')\n",
        "plt.show()"
      ],
      "execution_count": null,
      "outputs": [
        {
          "output_type": "display_data",
          "data": {
            "image/png": "[encoded data removed]",
            "text/plain": [
              "<Figure size 432x288 with 1 Axes>"
            ]
          },
          "metadata": {
            "tags": [],
            "needs_background": "light"
          }
        }
      ]
    },
    {
      "cell_type": "code",
      "metadata": {
        "colab": {
          "base_uri": "https://localhost:8080/"
        },
        "id": "FZM7K6KADqMx",
        "outputId": "b5f7bf42-5d13-4a15-f9df-a295b507a3af"
      },
      "source": [
        "import scipy.stats as stats\n",
        "# stats f_oneway functions takes the groups as input and returns ANOVA F and p value\n",
        "fvalue, pvalue = stats.f_oneway(df['A'], df['B'], df['C'], df['D'],df['E'],df['F'],df['G'],df['H'])\n",
        "print(fvalue, pvalue)"
      ],
      "execution_count": null,
      "outputs": [
        {
          "output_type": "stream",
          "text": [
            "20.079011634404182 8.332812098986194e-07\n"
          ],
          "name": "stdout"
        }
      ]
    },
    {
      "cell_type": "code",
      "metadata": {
        "id": "2WzdL8ZHVYpl"
      },
      "source": [
        "# get ANOVA table as R like output\n",
        "import statsmodels.api as sm\n",
        "from statsmodels.formula.api import ols"
      ],
      "execution_count": null,
      "outputs": []
    },
    {
      "cell_type": "code",
      "metadata": {
        "colab": {
          "base_uri": "https://localhost:8080/",
          "height": 111
        },
        "id": "AzRnlhORVcEj",
        "outputId": "d3521774-145f-402b-e461-14a297c7fe58"
      },
      "source": [
        "# Ordinary Least Squares (OLS) model\n",
        "model = ols('value ~ C(treatments)', data=df_melt).fit()\n",
        "anova_table = sm.stats.anova_lm(model, typ=2)\n",
        "anova_table"
      ],
      "execution_count": null,
      "outputs": [
        {
          "output_type": "execute_result",
          "data": {
            "text/html": [
              "<div>\n",
              "<style scoped>\n",
              "    .dataframe tbody tr th:only-of-type {\n",
              "        vertical-align: middle;\n",
              "    }\n",
              "\n",
              "    .dataframe tbody tr th {\n",
              "        vertical-align: top;\n",
              "    }\n",
              "\n",
              "    .dataframe thead th {\n",
              "        text-align: right;\n",
              "    }\n",
              "</style>\n",
              "<table border=\"1\" class=\"dataframe\">\n",
              "  <thead>\n",
              "    <tr style=\"text-align: right;\">\n",
              "      <th></th>\n",
              "      <th>sum_sq</th>\n",
              "      <th>df</th>\n",
              "      <th>F</th>\n",
              "      <th>PR(&gt;F)</th>\n",
              "    </tr>\n",
              "  </thead>\n",
              "  <tbody>\n",
              "    <tr>\n",
              "      <th>C(treatments)</th>\n",
              "      <td>4.360312e-09</td>\n",
              "      <td>3.0</td>\n",
              "      <td>17.746599</td>\n",
              "      <td>0.000678</td>\n",
              "    </tr>\n",
              "    <tr>\n",
              "      <th>Residual</th>\n",
              "      <td>6.551959e-10</td>\n",
              "      <td>8.0</td>\n",
              "      <td>NaN</td>\n",
              "      <td>NaN</td>\n",
              "    </tr>\n",
              "  </tbody>\n",
              "</table>\n",
              "</div>"
            ],
            "text/plain": [
              "                     sum_sq   df          F    PR(>F)\n",
              "C(treatments)  4.360312e-09  3.0  17.746599  0.000678\n",
              "Residual       6.551959e-10  8.0        NaN       NaN"
            ]
          },
          "metadata": {
            "tags": []
          },
          "execution_count": 85
        }
      ]
    },
    {
      "cell_type": "code",
      "metadata": {
        "colab": {
          "base_uri": "https://localhost:8080/",
          "height": 235
        },
        "id": "wEG_0MmiVh2T",
        "outputId": "d29275e4-75d0-4833-8367-eb5dc2a36636"
      },
      "source": [
        "from bioinfokit.analys import stat\n",
        "# perform multiple pairwise comparison (Tukey's HSD)\n",
        "# unequal sample size data, tukey_hsd uses Tukey-Kramer test\n",
        "res = stat()\n",
        "res.tukey_hsd(df=df_melt, res_var='value', xfac_var='treatments', anova_model='value ~ C(treatments)')\n",
        "res.tukey_summary"
      ],
      "execution_count": null,
      "outputs": [
        {
          "output_type": "execute_result",
          "data": {
            "text/html": [
              "<div>\n",
              "<style scoped>\n",
              "    .dataframe tbody tr th:only-of-type {\n",
              "        vertical-align: middle;\n",
              "    }\n",
              "\n",
              "    .dataframe tbody tr th {\n",
              "        vertical-align: top;\n",
              "    }\n",
              "\n",
              "    .dataframe thead th {\n",
              "        text-align: right;\n",
              "    }\n",
              "</style>\n",
              "<table border=\"1\" class=\"dataframe\">\n",
              "  <thead>\n",
              "    <tr style=\"text-align: right;\">\n",
              "      <th></th>\n",
              "      <th>group1</th>\n",
              "      <th>group2</th>\n",
              "      <th>Diff</th>\n",
              "      <th>Lower</th>\n",
              "      <th>Upper</th>\n",
              "      <th>q-value</th>\n",
              "      <th>p-value</th>\n",
              "    </tr>\n",
              "  </thead>\n",
              "  <tbody>\n",
              "    <tr>\n",
              "      <th>0</th>\n",
              "      <td>A</td>\n",
              "      <td>B</td>\n",
              "      <td>0.000011</td>\n",
              "      <td>-0.000013</td>\n",
              "      <td>0.000034</td>\n",
              "      <td>2.065421</td>\n",
              "      <td>0.500599</td>\n",
              "    </tr>\n",
              "    <tr>\n",
              "      <th>1</th>\n",
              "      <td>A</td>\n",
              "      <td>C</td>\n",
              "      <td>0.000028</td>\n",
              "      <td>0.000004</td>\n",
              "      <td>0.000052</td>\n",
              "      <td>5.379664</td>\n",
              "      <td>0.021713</td>\n",
              "    </tr>\n",
              "    <tr>\n",
              "      <th>2</th>\n",
              "      <td>A</td>\n",
              "      <td>D</td>\n",
              "      <td>0.000050</td>\n",
              "      <td>0.000027</td>\n",
              "      <td>0.000074</td>\n",
              "      <td>9.647305</td>\n",
              "      <td>0.001000</td>\n",
              "    </tr>\n",
              "    <tr>\n",
              "      <th>3</th>\n",
              "      <td>B</td>\n",
              "      <td>C</td>\n",
              "      <td>0.000017</td>\n",
              "      <td>-0.000006</td>\n",
              "      <td>0.000041</td>\n",
              "      <td>3.314243</td>\n",
              "      <td>0.166981</td>\n",
              "    </tr>\n",
              "    <tr>\n",
              "      <th>4</th>\n",
              "      <td>B</td>\n",
              "      <td>D</td>\n",
              "      <td>0.000040</td>\n",
              "      <td>0.000016</td>\n",
              "      <td>0.000063</td>\n",
              "      <td>7.581884</td>\n",
              "      <td>0.003005</td>\n",
              "    </tr>\n",
              "    <tr>\n",
              "      <th>5</th>\n",
              "      <td>C</td>\n",
              "      <td>D</td>\n",
              "      <td>0.000022</td>\n",
              "      <td>-0.000001</td>\n",
              "      <td>0.000046</td>\n",
              "      <td>4.267641</td>\n",
              "      <td>0.064912</td>\n",
              "    </tr>\n",
              "  </tbody>\n",
              "</table>\n",
              "</div>"
            ],
            "text/plain": [
              "  group1 group2      Diff     Lower     Upper   q-value   p-value\n",
              "0      A      B  0.000011 -0.000013  0.000034  2.065421  0.500599\n",
              "1      A      C  0.000028  0.000004  0.000052  5.379664  0.021713\n",
              "2      A      D  0.000050  0.000027  0.000074  9.647305  0.001000\n",
              "3      B      C  0.000017 -0.000006  0.000041  3.314243  0.166981\n",
              "4      B      D  0.000040  0.000016  0.000063  7.581884  0.003005\n",
              "5      C      D  0.000022 -0.000001  0.000046  4.267641  0.064912"
            ]
          },
          "metadata": {
            "tags": []
          },
          "execution_count": 86
        }
      ]
    },
    {
      "cell_type": "code",
      "metadata": {
        "colab": {
          "base_uri": "https://localhost:8080/",
          "height": 279
        },
        "id": "ceJIq58rVmGj",
        "outputId": "de8182e6-cef4-476b-9e87-629621a0334a"
      },
      "source": [
        "# QQ-plot\n",
        "import statsmodels.api as sm\n",
        "import matplotlib.pyplot as plt\n",
        "# res.anova_std_residuals are standardized residuals obtained from ANOVA (check above)\n",
        "sm.qqplot(res.anova_std_residuals, line='45')\n",
        "plt.xlabel(\"Theoretical Quantiles\")\n",
        "plt.ylabel(\"Standardized Residuals\")\n",
        "plt.show()"
      ],
      "execution_count": null,
      "outputs": [
        {
          "output_type": "display_data",
          "data": {
            "image/png": "[encoded data removed]",
            "text/plain": [
              "<Figure size 432x288 with 1 Axes>"
            ]
          },
          "metadata": {
            "tags": [],
            "needs_background": "light"
          }
        }
      ]
    },
    {
      "cell_type": "code",
      "metadata": {
        "colab": {
          "base_uri": "https://localhost:8080/",
          "height": 279
        },
        "id": "ox1Zd84gVyMb",
        "outputId": "2ae79adb-baf4-459d-f4e3-e2a9aa93c1dc"
      },
      "source": [
        "# histogram\n",
        "plt.hist(res.anova_model_out.resid, bins='auto', histtype='bar', ec='k') \n",
        "plt.xlabel(\"Residuals\")\n",
        "plt.ylabel('Frequency')\n",
        "plt.show()"
      ],
      "execution_count": null,
      "outputs": [
        {
          "output_type": "display_data",
          "data": {
            "image/png": "[encoded data removed]",
            "text/plain": [
              "<Figure size 432x288 with 1 Axes>"
            ]
          },
          "metadata": {
            "tags": [],
            "needs_background": "light"
          }
        }
      ]
    },
    {
      "cell_type": "code",
      "metadata": {
        "colab": {
          "base_uri": "https://localhost:8080/"
        },
        "id": "WdSxeYzWVz5a",
        "outputId": "d0fdbae8-e037-424e-cd15-57eea49e4bda"
      },
      "source": [
        "import scipy.stats as stats\n",
        "w, pvalue = stats.shapiro(model.resid)\n",
        "print(w, pvalue)"
      ],
      "execution_count": null,
      "outputs": [
        {
          "output_type": "stream",
          "text": [
            "0.977942705154419 0.9741113185882568\n"
          ],
          "name": "stdout"
        }
      ]
    },
    {
      "cell_type": "code",
      "metadata": {
        "colab": {
          "base_uri": "https://localhost:8080/"
        },
        "id": "ZwXty5UmV2LK",
        "outputId": "84b4ba9f-3b84-4e3d-832e-746919a65cba"
      },
      "source": [
        "import scipy.stats as stats\n",
        "w, pvalue = stats.bartlett(df['A'], df['B'], df['C'], df['D'],df['E'],df['F'],df['G'],df['H'])\n",
        "print(w, pvalue)"
      ],
      "execution_count": null,
      "outputs": [
        {
          "output_type": "stream",
          "text": [
            "16.511819170079004 0.020830276159776912\n"
          ],
          "name": "stdout"
        }
      ]
    },
    {
      "cell_type": "code",
      "metadata": {
        "colab": {
          "base_uri": "https://localhost:8080/",
          "height": 142
        },
        "id": "tM5hC4bMV4xy",
        "outputId": "99fdf570-c945-4f3f-b103-e401150d01fa"
      },
      "source": [
        "from bioinfokit.analys import stat \n",
        "res = stat()\n",
        "res.bartlett(df=df_melt, res_var='value', xfac_var='treatments')\n",
        "res.bartlett_summary"
      ],
      "execution_count": null,
      "outputs": [
        {
          "output_type": "execute_result",
          "data": {
            "text/html": [
              "<div>\n",
              "<style scoped>\n",
              "    .dataframe tbody tr th:only-of-type {\n",
              "        vertical-align: middle;\n",
              "    }\n",
              "\n",
              "    .dataframe tbody tr th {\n",
              "        vertical-align: top;\n",
              "    }\n",
              "\n",
              "    .dataframe thead th {\n",
              "        text-align: right;\n",
              "    }\n",
              "</style>\n",
              "<table border=\"1\" class=\"dataframe\">\n",
              "  <thead>\n",
              "    <tr style=\"text-align: right;\">\n",
              "      <th></th>\n",
              "      <th>Parameter</th>\n",
              "      <th>Value</th>\n",
              "    </tr>\n",
              "  </thead>\n",
              "  <tbody>\n",
              "    <tr>\n",
              "      <th>0</th>\n",
              "      <td>Test statistics (T)</td>\n",
              "      <td>3.7831</td>\n",
              "    </tr>\n",
              "    <tr>\n",
              "      <th>1</th>\n",
              "      <td>Degrees of freedom (Df)</td>\n",
              "      <td>3.0000</td>\n",
              "    </tr>\n",
              "    <tr>\n",
              "      <th>2</th>\n",
              "      <td>p value</td>\n",
              "      <td>0.2859</td>\n",
              "    </tr>\n",
              "  </tbody>\n",
              "</table>\n",
              "</div>"
            ],
            "text/plain": [
              "                 Parameter   Value\n",
              "0      Test statistics (T)  3.7831\n",
              "1  Degrees of freedom (Df)  3.0000\n",
              "2                  p value  0.2859"
            ]
          },
          "metadata": {
            "tags": []
          },
          "execution_count": 94
        }
      ]
    },
    {
      "cell_type": "code",
      "metadata": {
        "id": "nFAEZ3o3WOCb"
      },
      "source": [
        "#As the p value (0.2859) is non significant, we fail to reject null hypothesis and conclude that treatments have equal variances.\n"
      ],
      "execution_count": null,
      "outputs": []
    },
    {
      "cell_type": "code",
      "metadata": {
        "id": "pFUYDzfQWZm6"
      },
      "source": [
        "#This concludes PC3 for now"
      ],
      "execution_count": null,
      "outputs": []
    },
    {
      "cell_type": "code",
      "metadata": {
        "id": "OZv2O7EWWgs4"
      },
      "source": [
        ""
      ],
      "execution_count": null,
      "outputs": []
    }
  ]
}